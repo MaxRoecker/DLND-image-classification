{
 "cells": [
  {
   "cell_type": "markdown",
   "metadata": {
    "collapsed": true
   },
   "source": [
    "# Image Classification\n",
    "In this project, you'll classify images from the [CIFAR-10 dataset](https://www.cs.toronto.edu/~kriz/cifar.html).  The dataset consists of airplanes, dogs, cats, and other objects. You'll preprocess the images, then train a convolutional neural network on all the samples. The images need to be normalized and the labels need to be one-hot encoded.  You'll get to apply what you learned and build a convolutional, max pooling, dropout, and fully connected layers.  At the end, you'll get to see your neural network's predictions on the sample images.\n",
    "## Get the Data\n",
    "Run the following cell to download the [CIFAR-10 dataset for python](https://www.cs.toronto.edu/~kriz/cifar-10-python.tar.gz)."
   ]
  },
  {
   "cell_type": "code",
   "execution_count": 1,
   "metadata": {},
   "outputs": [
    {
     "name": "stdout",
     "output_type": "stream",
     "text": [
      "All files found!\n"
     ]
    }
   ],
   "source": [
    "\"\"\"\n",
    "DON'T MODIFY ANYTHING IN THIS CELL THAT IS BELOW THIS LINE\n",
    "\"\"\"\n",
    "from urllib.request import urlretrieve\n",
    "from os.path import isfile, isdir\n",
    "from tqdm import tqdm\n",
    "import problem_unittests as tests\n",
    "import tarfile\n",
    "\n",
    "cifar10_dataset_folder_path = 'cifar-10-batches-py'\n",
    "\n",
    "# Use Floyd's cifar-10 dataset if present\n",
    "floyd_cifar10_location = '/input/cifar-10/python.tar.gz'\n",
    "if isfile(floyd_cifar10_location):\n",
    "    tar_gz_path = floyd_cifar10_location\n",
    "else:\n",
    "    tar_gz_path = 'cifar-10-python.tar.gz'\n",
    "\n",
    "class DLProgress(tqdm):\n",
    "    last_block = 0\n",
    "\n",
    "    def hook(self, block_num=1, block_size=1, total_size=None):\n",
    "        self.total = total_size\n",
    "        self.update((block_num - self.last_block) * block_size)\n",
    "        self.last_block = block_num\n",
    "\n",
    "if not isfile(tar_gz_path):\n",
    "    with DLProgress(unit='B', unit_scale=True, miniters=1, desc='CIFAR-10 Dataset') as pbar:\n",
    "        urlretrieve(\n",
    "            'https://www.cs.toronto.edu/~kriz/cifar-10-python.tar.gz',\n",
    "            tar_gz_path,\n",
    "            pbar.hook)\n",
    "\n",
    "if not isdir(cifar10_dataset_folder_path):\n",
    "    with tarfile.open(tar_gz_path) as tar:\n",
    "        tar.extractall()\n",
    "        tar.close()\n",
    "\n",
    "\n",
    "tests.test_folder_path(cifar10_dataset_folder_path)"
   ]
  },
  {
   "cell_type": "markdown",
   "metadata": {},
   "source": [
    "## Explore the Data\n",
    "The dataset is broken into batches to prevent your machine from running out of memory.  The CIFAR-10 dataset consists of 5 batches, named `data_batch_1`, `data_batch_2`, etc.. Each batch contains the labels and images that are one of the following:\n",
    "* airplane\n",
    "* automobile\n",
    "* bird\n",
    "* cat\n",
    "* deer\n",
    "* dog\n",
    "* frog\n",
    "* horse\n",
    "* ship\n",
    "* truck\n",
    "\n",
    "Understanding a dataset is part of making predictions on the data.  Play around with the code cell below by changing the `batch_id` and `sample_id`. The `batch_id` is the id for a batch (1-5). The `sample_id` is the id for a image and label pair in the batch.\n",
    "\n",
    "Ask yourself \"What are all possible labels?\", \"What is the range of values for the image data?\", \"Are the labels in order or random?\".  Answers to questions like these will help you preprocess the data and end up with better predictions."
   ]
  },
  {
   "cell_type": "code",
   "execution_count": 2,
   "metadata": {},
   "outputs": [
    {
     "name": "stdout",
     "output_type": "stream",
     "text": [
      "\n",
      "Stats of batch 1:\n",
      "Samples: 10000\n",
      "Label Counts: {0: 1005, 1: 974, 2: 1032, 3: 1016, 4: 999, 5: 937, 6: 1030, 7: 1001, 8: 1025, 9: 981}\n",
      "First 20 Labels: [6, 9, 9, 4, 1, 1, 2, 7, 8, 3, 4, 7, 7, 2, 9, 9, 9, 3, 2, 6]\n",
      "\n",
      "Example of Image 5:\n",
      "Image - Min Value: 0 Max Value: 252\n",
      "Image - Shape: (32, 32, 3)\n",
      "Label - Label Id: 1 Name: automobile\n"
     ]
    },
    {
     "data": {
      "image/png": "[encoded data removed]",
      "text/plain": [
       "<matplotlib.figure.Figure at 0x7f8fb005ca20>"
      ]
     },
     "metadata": {
      "image/png": {
       "height": 250,
       "width": 253
      }
     },
     "output_type": "display_data"
    }
   ],
   "source": [
    "%matplotlib inline\n",
    "%config InlineBackend.figure_format = 'retina'\n",
    "\n",
    "import helper\n",
    "import numpy as np\n",
    "\n",
    "# Explore the dataset\n",
    "batch_id = 1\n",
    "sample_id = 5\n",
    "helper.display_stats(cifar10_dataset_folder_path, batch_id, sample_id)"
   ]
  },
  {
   "cell_type": "markdown",
   "metadata": {},
   "source": [
    "## Implement Preprocess Functions\n",
    "### Normalize\n",
    "In the cell below, implement the `normalize` function to take in image data, `x`, and return it as a normalized Numpy array. The values should be in the range of 0 to 1, inclusive.  The return object should be the same shape as `x`."
   ]
  },
  {
   "cell_type": "code",
   "execution_count": 3,
   "metadata": {},
   "outputs": [
    {
     "name": "stdout",
     "output_type": "stream",
     "text": [
      "Tests Passed\n"
     ]
    }
   ],
   "source": [
    "def normalize(x):\n",
    "    \"\"\"\n",
    "    Normalize a list of sample image data in the range of 0 to 1\n",
    "    : x: List of image data.  The image shape is (32, 32, 3)\n",
    "    : return: Numpy array of normalize data\n",
    "    \"\"\"\n",
    "    # TODO: Implement Function\n",
    "    return np.float32(x) / 255\n",
    "\n",
    "\n",
    "\"\"\"\n",
    "DON'T MODIFY ANYTHING IN THIS CELL THAT IS BELOW THIS LINE\n",
    "\"\"\"\n",
    "tests.test_normalize(normalize)"
   ]
  },
  {
   "cell_type": "markdown",
   "metadata": {},
   "source": [
    "### One-hot encode\n",
    "Just like the previous code cell, you'll be implementing a function for preprocessing.  This time, you'll implement the `one_hot_encode` function. The input, `x`, are a list of labels.  Implement the function to return the list of labels as One-Hot encoded Numpy array.  The possible values for labels are 0 to 9. The one-hot encoding function should return the same encoding for each value between each call to `one_hot_encode`.  Make sure to save the map of encodings outside the function.\n",
    "\n",
    "Hint: Don't reinvent the wheel."
   ]
  },
  {
   "cell_type": "code",
   "execution_count": 4,
   "metadata": {},
   "outputs": [
    {
     "name": "stdout",
     "output_type": "stream",
     "text": [
      "Tests Passed\n"
     ]
    }
   ],
   "source": [
    "def one_hot_encode(x):\n",
    "    \"\"\"\n",
    "    One hot encode a list of sample labels. Return a one-hot encoded vector for each label.\n",
    "    : x: List of sample Labels\n",
    "    : return: Numpy array of one-hot encoded labels\n",
    "    \"\"\"\n",
    "    # TODO: Implement Function\n",
    "    lenght = len(x)\n",
    "    encoded = np.zeros((lenght, 10), dtype=np.float32)\n",
    "    for i in range(lenght):\n",
    "        encoded[i][x[i]] = 1.0\n",
    "    return encoded\n",
    "\n",
    "\n",
    "\"\"\"\n",
    "DON'T MODIFY ANYTHING IN THIS CELL THAT IS BELOW THIS LINE\n",
    "\"\"\"\n",
    "tests.test_one_hot_encode(one_hot_encode)"
   ]
  },
  {
   "cell_type": "markdown",
   "metadata": {},
   "source": [
    "### Randomize Data\n",
    "As you saw from exploring the data above, the order of the samples are randomized.  It doesn't hurt to randomize it again, but you don't need to for this dataset."
   ]
  },
  {
   "cell_type": "markdown",
   "metadata": {},
   "source": [
    "## Preprocess all the data and save it\n",
    "Running the code cell below will preprocess all the CIFAR-10 data and save it to file. The code below also uses 10% of the training data for validation."
   ]
  },
  {
   "cell_type": "code",
   "execution_count": 5,
   "metadata": {
    "collapsed": true
   },
   "outputs": [],
   "source": [
    "\"\"\"\n",
    "DON'T MODIFY ANYTHING IN THIS CELL\n",
    "\"\"\"\n",
    "# Preprocess Training, Validation, and Testing Data\n",
    "helper.preprocess_and_save_data(cifar10_dataset_folder_path, normalize, one_hot_encode)"
   ]
  },
  {
   "cell_type": "markdown",
   "metadata": {},
   "source": [
    "# Check Point\n",
    "This is your first checkpoint.  If you ever decide to come back to this notebook or have to restart the notebook, you can start from here.  The preprocessed data has been saved to disk."
   ]
  },
  {
   "cell_type": "code",
   "execution_count": 6,
   "metadata": {
    "collapsed": true
   },
   "outputs": [],
   "source": [
    "\"\"\"\n",
    "DON'T MODIFY ANYTHING IN THIS CELL\n",
    "\"\"\"\n",
    "import pickle\n",
    "import problem_unittests as tests\n",
    "import helper\n",
    "\n",
    "# Load the Preprocessed Validation data\n",
    "valid_features, valid_labels = pickle.load(open('preprocess_validation.p', mode='rb'))"
   ]
  },
  {
   "cell_type": "markdown",
   "metadata": {},
   "source": [
    "## Build the network\n",
    "For the neural network, you'll build each layer into a function.  Most of the code you've seen has been outside of functions. To test your code more thoroughly, we require that you put each layer in a function.  This allows us to give you better feedback and test for simple mistakes using our unittests before you submit your project.\n",
    "\n",
    ">**Note:** If you're finding it hard to dedicate enough time for this course each week, we've provided a small shortcut to this part of the project. In the next couple of problems, you'll have the option to use classes from the [TensorFlow Layers](https://www.tensorflow.org/api_docs/python/tf/layers) or [TensorFlow Layers (contrib)](https://www.tensorflow.org/api_guides/python/contrib.layers) packages to build each layer, except the layers you build in the \"Convolutional and Max Pooling Layer\" section.  TF Layers is similar to Keras's and TFLearn's abstraction to layers, so it's easy to pickup.\n",
    "\n",
    ">However, if you would like to get the most out of this course, try to solve all the problems _without_ using anything from the TF Layers packages. You **can** still use classes from other packages that happen to have the same name as ones you find in TF Layers! For example, instead of using the TF Layers version of the `conv2d` class, [tf.layers.conv2d](https://www.tensorflow.org/api_docs/python/tf/layers/conv2d), you would want to use the TF Neural Network version of `conv2d`, [tf.nn.conv2d](https://www.tensorflow.org/api_docs/python/tf/nn/conv2d). \n",
    "\n",
    "Let's begin!\n",
    "\n",
    "### Input\n",
    "The neural network needs to read the image data, one-hot encoded labels, and dropout keep probability. Implement the following functions\n",
    "* Implement `neural_net_image_input`\n",
    " * Return a [TF Placeholder](https://www.tensorflow.org/api_docs/python/tf/placeholder)\n",
    " * Set the shape using `image_shape` with batch size set to `None`.\n",
    " * Name the TensorFlow placeholder \"x\" using the TensorFlow `name` parameter in the [TF Placeholder](https://www.tensorflow.org/api_docs/python/tf/placeholder).\n",
    "* Implement `neural_net_label_input`\n",
    " * Return a [TF Placeholder](https://www.tensorflow.org/api_docs/python/tf/placeholder)\n",
    " * Set the shape using `n_classes` with batch size set to `None`.\n",
    " * Name the TensorFlow placeholder \"y\" using the TensorFlow `name` parameter in the [TF Placeholder](https://www.tensorflow.org/api_docs/python/tf/placeholder).\n",
    "* Implement `neural_net_keep_prob_input`\n",
    " * Return a [TF Placeholder](https://www.tensorflow.org/api_docs/python/tf/placeholder) for dropout keep probability.\n",
    " * Name the TensorFlow placeholder \"keep_prob\" using the TensorFlow `name` parameter in the [TF Placeholder](https://www.tensorflow.org/api_docs/python/tf/placeholder).\n",
    "\n",
    "These names will be used at the end of the project to load your saved model.\n",
    "\n",
    "Note: `None` for shapes in TensorFlow allow for a dynamic size."
   ]
  },
  {
   "cell_type": "code",
   "execution_count": 7,
   "metadata": {},
   "outputs": [
    {
     "name": "stdout",
     "output_type": "stream",
     "text": [
      "Image Input Tests Passed.\n",
      "Label Input Tests Passed.\n",
      "Keep Prob Tests Passed.\n"
     ]
    }
   ],
   "source": [
    "import tensorflow as tf\n",
    "\n",
    "def neural_net_image_input(image_shape):\n",
    "    \"\"\"\n",
    "    Return a Tensor for a bach of image input\n",
    "    : image_shape: Shape of the images\n",
    "    : return: Tensor for image input.\n",
    "    \"\"\"\n",
    "    # TODO: Implement Function\n",
    "    return tf.placeholder(\n",
    "        dtype=tf.float32,\n",
    "        shape=[None, *image_shape],\n",
    "        name='x')\n",
    "\n",
    "\n",
    "def neural_net_label_input(n_classes):\n",
    "    \"\"\"\n",
    "    Return a Tensor for a batch of label input\n",
    "    : n_classes: Number of classes\n",
    "    : return: Tensor for label input.\n",
    "    \"\"\"\n",
    "    # TODO: Implement Function\n",
    "    return tf.placeholder(\n",
    "        dtype=tf.float32,\n",
    "        shape=[None, n_classes],\n",
    "        name='y')\n",
    "\n",
    "\n",
    "def neural_net_keep_prob_input():\n",
    "    \"\"\"\n",
    "    Return a Tensor for keep probability\n",
    "    : return: Tensor for keep probability.\n",
    "    \"\"\"\n",
    "    # TODO: Implement Function\n",
    "    return tf.placeholder(\n",
    "        dtype=tf.float32,\n",
    "        name='keep_prob')\n",
    "\n",
    "\n",
    "\"\"\"\n",
    "DON'T MODIFY ANYTHING IN THIS CELL THAT IS BELOW THIS LINE\n",
    "\"\"\"\n",
    "tf.reset_default_graph()\n",
    "tests.test_nn_image_inputs(neural_net_image_input)\n",
    "tests.test_nn_label_inputs(neural_net_label_input)\n",
    "tests.test_nn_keep_prob_inputs(neural_net_keep_prob_input)"
   ]
  },
  {
   "cell_type": "markdown",
   "metadata": {},
   "source": [
    "### Convolution and Max Pooling Layer\n",
    "Convolution layers have a lot of success with images. For this code cell, you should implement the function `conv2d_maxpool` to apply convolution then max pooling:\n",
    "* Create the weight and bias using `conv_ksize`, `conv_num_outputs` and the shape of `x_tensor`.\n",
    "* Apply a convolution to `x_tensor` using weight and `conv_strides`.\n",
    " * We recommend you use same padding, but you're welcome to use any padding.\n",
    "* Add bias\n",
    "* Add a nonlinear activation to the convolution.\n",
    "* Apply Max Pooling using `pool_ksize` and `pool_strides`.\n",
    " * We recommend you use same padding, but you're welcome to use any padding.\n",
    "\n",
    "**Note:** You **can't** use [TensorFlow Layers](https://www.tensorflow.org/api_docs/python/tf/layers) or [TensorFlow Layers (contrib)](https://www.tensorflow.org/api_guides/python/contrib.layers) for **this** layer, but you can still use TensorFlow's [Neural Network](https://www.tensorflow.org/api_docs/python/tf/nn) package. You may still use the shortcut option for all the **other** layers."
   ]
  },
  {
   "cell_type": "code",
   "execution_count": 9,
   "metadata": {},
   "outputs": [
    {
     "name": "stdout",
     "output_type": "stream",
     "text": [
      "Tests Passed\n"
     ]
    }
   ],
   "source": [
    "def conv2d_maxpool(x_tensor, conv_num_outputs, conv_ksize, conv_strides, pool_ksize, pool_strides):\n",
    "    \"\"\"\n",
    "    Apply convolution then max pooling to x_tensor\n",
    "    :param x_tensor: TensorFlow Tensor\n",
    "    :param conv_num_outputs: Number of outputs for the convolutional layer\n",
    "    :param conv_ksize: kernal size 2-D Tuple for the convolutional layer\n",
    "    :param conv_strides: Stride 2-D Tuple for convolution\n",
    "    :param pool_ksize: kernal size 2-D Tuple for pool\n",
    "    :param pool_strides: Stride 2-D Tuple for pool\n",
    "    : return: A tensor that represents convolution and max pooling of x_tensor\n",
    "    \"\"\"\n",
    "    # TODO: Implement Function\n",
    "    channels = x_tensor.shape[3].value\n",
    "    weigths = tf.Variable(tf.truncated_normal(\n",
    "        shape=[*conv_ksize, channels, conv_num_outputs],\n",
    "        mean=0.0,\n",
    "        stddev=0.1))\n",
    "    bias = tf.Variable(tf.truncated_normal(\n",
    "        shape=[conv_num_outputs],\n",
    "        mean=0.0,\n",
    "        stddev=0.1))\n",
    "    conv = tf.nn.conv2d(\n",
    "        input=x_tensor,\n",
    "        filter=weigths,\n",
    "        strides=[1, *conv_strides, 1],\n",
    "        padding='SAME')\n",
    "    relu = tf.nn.relu(tf.nn.bias_add(conv, bias))\n",
    "    max_pool = tf.nn.max_pool(\n",
    "        value=relu,\n",
    "        ksize=[1, *pool_ksize, 1],\n",
    "        strides=[1, *pool_strides, 1],\n",
    "        padding='SAME')\n",
    "    return max_pool\n",
    "\n",
    "\n",
    "\"\"\"\n",
    "DON'T MODIFY ANYTHING IN THIS CELL THAT IS BELOW THIS LINE\n",
    "\"\"\"\n",
    "tests.test_con_pool(conv2d_maxpool)"
   ]
  },
  {
   "cell_type": "markdown",
   "metadata": {},
   "source": [
    "### Flatten Layer\n",
    "Implement the `flatten` function to change the dimension of `x_tensor` from a 4-D tensor to a 2-D tensor.  The output should be the shape (*Batch Size*, *Flattened Image Size*). Shortcut option: you can use classes from the [TensorFlow Layers](https://www.tensorflow.org/api_docs/python/tf/layers) or [TensorFlow Layers (contrib)](https://www.tensorflow.org/api_guides/python/contrib.layers) packages for this layer. For more of a challenge, only use other TensorFlow packages."
   ]
  },
  {
   "cell_type": "code",
   "execution_count": 10,
   "metadata": {},
   "outputs": [
    {
     "name": "stdout",
     "output_type": "stream",
     "text": [
      "Tests Passed\n"
     ]
    }
   ],
   "source": [
    "def flatten(x_tensor):\n",
    "    \"\"\"\n",
    "    Flatten x_tensor to (Batch Size, Flattened Image Size)\n",
    "    : x_tensor: A tensor of size (Batch Size, ...), where ... are the image dimensions.\n",
    "    : return: A tensor of size (Batch Size, Flattened Image Size).\n",
    "    \"\"\"\n",
    "    # TODO: Implement Function\n",
    "    (batch_size, width, height, depth) = x_tensor.get_shape()\n",
    "    flattened_size = width * height * depth\n",
    "    return tf.reshape(tensor=x_tensor, shape=[-1, flattened_size.value])\n",
    "\n",
    "\n",
    "\"\"\"\n",
    "DON'T MODIFY ANYTHING IN THIS CELL THAT IS BELOW THIS LINE\n",
    "\"\"\"\n",
    "tests.test_flatten(flatten)"
   ]
  },
  {
   "cell_type": "markdown",
   "metadata": {},
   "source": [
    "### Fully-Connected Layer\n",
    "Implement the `fully_conn` function to apply a fully connected layer to `x_tensor` with the shape (*Batch Size*, *num_outputs*). Shortcut option: you can use classes from the [TensorFlow Layers](https://www.tensorflow.org/api_docs/python/tf/layers) or [TensorFlow Layers (contrib)](https://www.tensorflow.org/api_guides/python/contrib.layers) packages for this layer. For more of a challenge, only use other TensorFlow packages."
   ]
  },
  {
   "cell_type": "code",
   "execution_count": 11,
   "metadata": {},
   "outputs": [
    {
     "name": "stdout",
     "output_type": "stream",
     "text": [
      "Tests Passed\n"
     ]
    }
   ],
   "source": [
    "def fully_conn(x_tensor, num_outputs):\n",
    "    \"\"\"\n",
    "    Apply a fully connected layer to x_tensor using weight and bias\n",
    "    : x_tensor: A 2-D tensor where the first dimension is batch size.\n",
    "    : num_outputs: The number of output that the new tensor should be.\n",
    "    : return: A 2-D tensor where the second dimension is num_outputs.\n",
    "    \"\"\"\n",
    "    # TODO: Implement Function\n",
    "    (batch_size, dimensions) = x_tensor.get_shape()\n",
    "    weights = tf.Variable(tf.truncated_normal(\n",
    "        shape=[dimensions.value, num_outputs],\n",
    "        mean=0.0,\n",
    "        stddev=0.1))\n",
    "    bias = tf.Variable(tf.truncated_normal(\n",
    "        shape=[num_outputs],\n",
    "        mean=0.0,\n",
    "        stddev=0.1))\n",
    "    relu = tf.nn.relu(tf.nn.bias_add(tf.matmul(x_tensor, weights), bias))\n",
    "    return relu\n",
    "\n",
    "\n",
    "\"\"\"\n",
    "DON'T MODIFY ANYTHING IN THIS CELL THAT IS BELOW THIS LINE\n",
    "\"\"\"\n",
    "tests.test_fully_conn(fully_conn)"
   ]
  },
  {
   "cell_type": "markdown",
   "metadata": {},
   "source": [
    "### Output Layer\n",
    "Implement the `output` function to apply a fully connected layer to `x_tensor` with the shape (*Batch Size*, *num_outputs*). Shortcut option: you can use classes from the [TensorFlow Layers](https://www.tensorflow.org/api_docs/python/tf/layers) or [TensorFlow Layers (contrib)](https://www.tensorflow.org/api_guides/python/contrib.layers) packages for this layer. For more of a challenge, only use other TensorFlow packages.\n",
    "\n",
    "**Note:** Activation, softmax, or cross entropy should **not** be applied to this."
   ]
  },
  {
   "cell_type": "code",
   "execution_count": 12,
   "metadata": {},
   "outputs": [
    {
     "name": "stdout",
     "output_type": "stream",
     "text": [
      "Tests Passed\n"
     ]
    }
   ],
   "source": [
    "def output(x_tensor, num_outputs):\n",
    "    \"\"\"\n",
    "    Apply a output layer to x_tensor using weight and bias\n",
    "    : x_tensor: A 2-D tensor where the first dimension is batch size.\n",
    "    : num_outputs: The number of output that the new tensor should be.\n",
    "    : return: A 2-D tensor where the second dimension is num_outputs.\n",
    "    \"\"\"\n",
    "    # TODO: Implement Function\n",
    "    (batch_size, dimensions) = x_tensor.get_shape()\n",
    "    weights = tf.Variable(tf.truncated_normal(\n",
    "        shape=[dimensions.value, num_outputs],\n",
    "        mean=0.0,\n",
    "        stddev=0.1))\n",
    "    bias = tf.Variable(tf.truncated_normal(\n",
    "        shape=[num_outputs],\n",
    "        mean=0.0,\n",
    "        stddev=0.1))\n",
    "    output = tf.nn.bias_add(tf.matmul(x_tensor, weights), bias)\n",
    "    return output\n",
    "\n",
    "\n",
    "\"\"\"\n",
    "DON'T MODIFY ANYTHING IN THIS CELL THAT IS BELOW THIS LINE\n",
    "\"\"\"\n",
    "tests.test_output(output)"
   ]
  },
  {
   "cell_type": "markdown",
   "metadata": {},
   "source": [
    "### Create Convolutional Model\n",
    "Implement the function `conv_net` to create a convolutional neural network model. The function takes in a batch of images, `x`, and outputs logits.  Use the layers you created above to create this model:\n",
    "\n",
    "* Apply 1, 2, or 3 Convolution and Max Pool layers\n",
    "* Apply a Flatten Layer\n",
    "* Apply 1, 2, or 3 Fully Connected Layers\n",
    "* Apply an Output Layer\n",
    "* Return the output\n",
    "* Apply [TensorFlow's Dropout](https://www.tensorflow.org/api_docs/python/tf/nn/dropout) to one or more layers in the model using `keep_prob`. "
   ]
  },
  {
   "cell_type": "code",
   "execution_count": 22,
   "metadata": {},
   "outputs": [
    {
     "name": "stdout",
     "output_type": "stream",
     "text": [
      "Neural Network Built!\n"
     ]
    }
   ],
   "source": [
    "def conv_net(x, keep_prob):\n",
    "    \"\"\"\n",
    "    Create a convolutional neural network model\n",
    "    : x: Placeholder tensor that holds image data.\n",
    "    : keep_prob: Placeholder tensor that hold dropout keep probability.\n",
    "    : return: Tensor that represents logits\n",
    "    \"\"\"\n",
    "    # TODO: Apply 1, 2, or 3 Convolution and Max Pool layers\n",
    "    #    Play around with different number of outputs, kernel size and stride\n",
    "    # Function Definition from Above:\n",
    "    #    conv2d_maxpool(x_tensor, conv_num_outputs, conv_ksize, conv_strides, pool_ksize, pool_strides)\n",
    "    conv_ksize = (4, 4)\n",
    "    conv_strides = (1, 1)\n",
    "    pool_ksize = (2, 2)\n",
    "    pool_strides = (2, 2)\n",
    "    \n",
    "    conv1 = conv2d_maxpool(x, 64, conv_ksize, conv_strides, pool_ksize, pool_strides)\n",
    "    conv1_drop = tf.nn.dropout(conv1, keep_prob)\n",
    "    conv2 = conv2d_maxpool(conv1_drop, 128, conv_ksize, conv_strides, pool_ksize, pool_strides)\n",
    "    conv2_drop = tf.nn.dropout(conv2, keep_prob)\n",
    "    conv3 = conv2d_maxpool(conv2_drop, 128, conv_ksize, conv_strides, pool_ksize, pool_strides)\n",
    "    conv3_drop = tf.nn.dropout(conv3, keep_prob)\n",
    "\n",
    "    # TODO: Apply a Flatten Layer\n",
    "    # Function Definition from Above:\n",
    "    #   flatten(x_tensor)\n",
    "    flat = flatten(conv3_drop)\n",
    "\n",
    "    # TODO: Apply 1, 2, or 3 Fully Connected Layers\n",
    "    #    Play around with different number of outputs\n",
    "    # Function Definition from Above:\n",
    "    #   fully_conn(x_tensor, num_outputs)\n",
    "    conn1 = fully_conn(flat, 128)\n",
    "    conn2 = fully_conn(conn1, 128)\n",
    "\n",
    "    # TODO: Apply an Output Layer\n",
    "    #    Set this to the number of classes\n",
    "    # Function Definition from Above:\n",
    "    #   output(x_tensor, num_outputs)\n",
    "    outputed = output(conn2, 10)\n",
    "    \n",
    "    # TODO: return output\n",
    "    return outputed\n",
    "\n",
    "\n",
    "\"\"\"\n",
    "DON'T MODIFY ANYTHING IN THIS CELL THAT IS BELOW THIS LINE\n",
    "\"\"\"\n",
    "\n",
    "##############################\n",
    "## Build the Neural Network ##\n",
    "##############################\n",
    "\n",
    "# Remove previous weights, bias, inputs, etc..\n",
    "tf.reset_default_graph()\n",
    "\n",
    "# Inputs\n",
    "x = neural_net_image_input((32, 32, 3))\n",
    "y = neural_net_label_input(10)\n",
    "keep_prob = neural_net_keep_prob_input()\n",
    "\n",
    "# Model\n",
    "logits = conv_net(x, keep_prob)\n",
    "\n",
    "# Name logits Tensor, so that is can be loaded from disk after training\n",
    "logits = tf.identity(logits, name='logits')\n",
    "\n",
    "# Loss and Optimizer\n",
    "cost = tf.reduce_mean(tf.nn.softmax_cross_entropy_with_logits(logits=logits, labels=y))\n",
    "optimizer = tf.train.AdamOptimizer().minimize(cost)\n",
    "\n",
    "# Accuracy\n",
    "correct_pred = tf.equal(tf.argmax(logits, 1), tf.argmax(y, 1))\n",
    "accuracy = tf.reduce_mean(tf.cast(correct_pred, tf.float32), name='accuracy')\n",
    "\n",
    "tests.test_conv_net(conv_net)"
   ]
  },
  {
   "cell_type": "markdown",
   "metadata": {},
   "source": [
    "## Train the Neural Network\n",
    "### Single Optimization\n",
    "Implement the function `train_neural_network` to do a single optimization.  The optimization should use `optimizer` to optimize in `session` with a `feed_dict` of the following:\n",
    "* `x` for image input\n",
    "* `y` for labels\n",
    "* `keep_prob` for keep probability for dropout\n",
    "\n",
    "This function will be called for each batch, so `tf.global_variables_initializer()` has already been called.\n",
    "\n",
    "Note: Nothing needs to be returned. This function is only optimizing the neural network."
   ]
  },
  {
   "cell_type": "code",
   "execution_count": 14,
   "metadata": {},
   "outputs": [
    {
     "name": "stdout",
     "output_type": "stream",
     "text": [
      "Tests Passed\n"
     ]
    }
   ],
   "source": [
    "def train_neural_network(session, optimizer, keep_probability, feature_batch, label_batch):\n",
    "    \"\"\"\n",
    "    Optimize the session on a batch of images and labels\n",
    "    : session: Current TensorFlow session\n",
    "    : optimizer: TensorFlow optimizer function\n",
    "    : keep_probability: keep probability\n",
    "    : feature_batch: Batch of Numpy image data\n",
    "    : label_batch: Batch of Numpy label data\n",
    "    \"\"\"\n",
    "    # TODO: Implement Function\n",
    "    feed = {x: feature_batch, y: label_batch, keep_prob: keep_probability}\n",
    "    optimizer_output = session.run(optimizer, feed_dict=feed)\n",
    "\n",
    "\n",
    "\"\"\"\n",
    "DON'T MODIFY ANYTHING IN THIS CELL THAT IS BELOW THIS LINE\n",
    "\"\"\"\n",
    "tests.test_train_nn(train_neural_network)"
   ]
  },
  {
   "cell_type": "markdown",
   "metadata": {},
   "source": [
    "### Show Stats\n",
    "Implement the function `print_stats` to print loss and validation accuracy.  Use the global variables `valid_features` and `valid_labels` to calculate validation accuracy.  Use a keep probability of `1.0` to calculate the loss and validation accuracy."
   ]
  },
  {
   "cell_type": "code",
   "execution_count": 15,
   "metadata": {
    "collapsed": true
   },
   "outputs": [],
   "source": [
    "def print_stats(session, feature_batch, label_batch, cost, accuracy):\n",
    "    \"\"\"\n",
    "    Print information about loss and validation accuracy\n",
    "    : session: Current TensorFlow session\n",
    "    : feature_batch: Batch of Numpy image data\n",
    "    : label_batch: Batch of Numpy label data\n",
    "    : cost: TensorFlow cost function\n",
    "    : accuracy: TensorFlow accuracy function\n",
    "    \"\"\"\n",
    "    # TODO: Implement Function\n",
    "    cost_feed = {\n",
    "        x: feature_batch, \n",
    "        y: label_batch, \n",
    "        keep_prob: 1.0}\n",
    "    accuracy_feed = {\n",
    "        x: valid_features,\n",
    "        y: valid_labels,\n",
    "        keep_prob: 1.0}\n",
    "    cost_output = session.run(fetches=cost,feed_dict=cost_feed)\n",
    "    accuracy_output = session.run(fetches=accuracy, feed_dict=accuracy_feed)\n",
    "    print('Cost: {: f} \\t Accuracy: {: f}'.format(cost_output, accuracy_output))"
   ]
  },
  {
   "cell_type": "markdown",
   "metadata": {},
   "source": [
    "### Hyperparameters\n",
    "Tune the following parameters:\n",
    "* Set `epochs` to the number of iterations until the network stops learning or start overfitting\n",
    "* Set `batch_size` to the highest number that your machine has memory for.  Most people set them to common sizes of memory:\n",
    " * 64\n",
    " * 128\n",
    " * 256\n",
    " * ...\n",
    "* Set `keep_probability` to the probability of keeping a node using dropout"
   ]
  },
  {
   "cell_type": "code",
   "execution_count": 23,
   "metadata": {
    "collapsed": true
   },
   "outputs": [],
   "source": [
    "# TODO: Tune Parameters\n",
    "epochs = 64\n",
    "batch_size = 128\n",
    "keep_probability = 0.5"
   ]
  },
  {
   "cell_type": "markdown",
   "metadata": {},
   "source": [
    "### Train on a Single CIFAR-10 Batch\n",
    "Instead of training the neural network on all the CIFAR-10 batches of data, let's use a single batch. This should save time while you iterate on the model to get a better accuracy.  Once the final validation accuracy is 50% or greater, run the model on all the data in the next section."
   ]
  },
  {
   "cell_type": "code",
   "execution_count": 24,
   "metadata": {
    "scrolled": true
   },
   "outputs": [
    {
     "name": "stdout",
     "output_type": "stream",
     "text": [
      "Checking the Training on a Single Batch...\n",
      "Epoch  1, CIFAR-10 Batch 1:  Cost:  2.267244 \t Accuracy:  0.202200\n",
      "Epoch  2, CIFAR-10 Batch 1:  Cost:  2.162598 \t Accuracy:  0.244200\n",
      "Epoch  3, CIFAR-10 Batch 1:  Cost:  2.091741 \t Accuracy:  0.276000\n",
      "Epoch  4, CIFAR-10 Batch 1:  Cost:  1.965987 \t Accuracy:  0.353800\n",
      "Epoch  5, CIFAR-10 Batch 1:  Cost:  1.915472 \t Accuracy:  0.375200\n",
      "Epoch  6, CIFAR-10 Batch 1:  Cost:  1.850327 \t Accuracy:  0.416200\n",
      "Epoch  7, CIFAR-10 Batch 1:  Cost:  1.811911 \t Accuracy:  0.425000\n",
      "Epoch  8, CIFAR-10 Batch 1:  Cost:  1.733274 \t Accuracy:  0.435000\n",
      "Epoch  9, CIFAR-10 Batch 1:  Cost:  1.692034 \t Accuracy:  0.447400\n",
      "Epoch 10, CIFAR-10 Batch 1:  Cost:  1.621226 \t Accuracy:  0.457600\n",
      "Epoch 11, CIFAR-10 Batch 1:  Cost:  1.553071 \t Accuracy:  0.468800\n",
      "Epoch 12, CIFAR-10 Batch 1:  Cost:  1.491615 \t Accuracy:  0.475600\n",
      "Epoch 13, CIFAR-10 Batch 1:  Cost:  1.482791 \t Accuracy:  0.482400\n",
      "Epoch 14, CIFAR-10 Batch 1:  Cost:  1.457269 \t Accuracy:  0.478600\n",
      "Epoch 15, CIFAR-10 Batch 1:  Cost:  1.425376 \t Accuracy:  0.487600\n",
      "Epoch 16, CIFAR-10 Batch 1:  Cost:  1.368184 \t Accuracy:  0.513400\n",
      "Epoch 17, CIFAR-10 Batch 1:  Cost:  1.334079 \t Accuracy:  0.500800\n",
      "Epoch 18, CIFAR-10 Batch 1:  Cost:  1.263154 \t Accuracy:  0.524600\n",
      "Epoch 19, CIFAR-10 Batch 1:  Cost:  1.201247 \t Accuracy:  0.542400\n",
      "Epoch 20, CIFAR-10 Batch 1:  Cost:  1.155250 \t Accuracy:  0.535400\n",
      "Epoch 21, CIFAR-10 Batch 1:  Cost:  1.168313 \t Accuracy:  0.541400\n",
      "Epoch 22, CIFAR-10 Batch 1:  Cost:  1.120829 \t Accuracy:  0.554400\n",
      "Epoch 23, CIFAR-10 Batch 1:  Cost:  1.126178 \t Accuracy:  0.542200\n",
      "Epoch 24, CIFAR-10 Batch 1:  Cost:  1.056866 \t Accuracy:  0.554400\n",
      "Epoch 25, CIFAR-10 Batch 1:  Cost:  1.048040 \t Accuracy:  0.561600\n",
      "Epoch 26, CIFAR-10 Batch 1:  Cost:  1.010820 \t Accuracy:  0.564200\n",
      "Epoch 27, CIFAR-10 Batch 1:  Cost:  0.977001 \t Accuracy:  0.573000\n",
      "Epoch 28, CIFAR-10 Batch 1:  Cost:  0.942706 \t Accuracy:  0.579600\n",
      "Epoch 29, CIFAR-10 Batch 1:  Cost:  0.951864 \t Accuracy:  0.572600\n",
      "Epoch 30, CIFAR-10 Batch 1:  Cost:  0.887815 \t Accuracy:  0.595800\n",
      "Epoch 31, CIFAR-10 Batch 1:  Cost:  0.866577 \t Accuracy:  0.591400\n",
      "Epoch 32, CIFAR-10 Batch 1:  Cost:  0.779407 \t Accuracy:  0.595600\n",
      "Epoch 33, CIFAR-10 Batch 1:  Cost:  0.828830 \t Accuracy:  0.601400\n",
      "Epoch 34, CIFAR-10 Batch 1:  Cost:  0.793468 \t Accuracy:  0.600800\n",
      "Epoch 35, CIFAR-10 Batch 1:  Cost:  0.730050 \t Accuracy:  0.608800\n",
      "Epoch 36, CIFAR-10 Batch 1:  Cost:  0.711884 \t Accuracy:  0.613000\n",
      "Epoch 37, CIFAR-10 Batch 1:  Cost:  0.686759 \t Accuracy:  0.620800\n",
      "Epoch 38, CIFAR-10 Batch 1:  Cost:  0.625299 \t Accuracy:  0.627800\n",
      "Epoch 39, CIFAR-10 Batch 1:  Cost:  0.633860 \t Accuracy:  0.627800\n",
      "Epoch 40, CIFAR-10 Batch 1:  Cost:  0.595145 \t Accuracy:  0.633400\n",
      "Epoch 41, CIFAR-10 Batch 1:  Cost:  0.567589 \t Accuracy:  0.633400\n",
      "Epoch 42, CIFAR-10 Batch 1:  Cost:  0.513426 \t Accuracy:  0.628200\n",
      "Epoch 43, CIFAR-10 Batch 1:  Cost:  0.505743 \t Accuracy:  0.640400\n",
      "Epoch 44, CIFAR-10 Batch 1:  Cost:  0.510391 \t Accuracy:  0.631400\n",
      "Epoch 45, CIFAR-10 Batch 1:  Cost:  0.451238 \t Accuracy:  0.639200\n",
      "Epoch 46, CIFAR-10 Batch 1:  Cost:  0.444470 \t Accuracy:  0.640000\n",
      "Epoch 47, CIFAR-10 Batch 1:  Cost:  0.472580 \t Accuracy:  0.633600\n",
      "Epoch 48, CIFAR-10 Batch 1:  Cost:  0.413151 \t Accuracy:  0.650000\n",
      "Epoch 49, CIFAR-10 Batch 1:  Cost:  0.393253 \t Accuracy:  0.646000\n",
      "Epoch 50, CIFAR-10 Batch 1:  Cost:  0.349842 \t Accuracy:  0.650000\n",
      "Epoch 51, CIFAR-10 Batch 1:  Cost:  0.325874 \t Accuracy:  0.655800\n",
      "Epoch 52, CIFAR-10 Batch 1:  Cost:  0.300882 \t Accuracy:  0.644600\n",
      "Epoch 53, CIFAR-10 Batch 1:  Cost:  0.285010 \t Accuracy:  0.656200\n",
      "Epoch 54, CIFAR-10 Batch 1:  Cost:  0.296511 \t Accuracy:  0.645400\n",
      "Epoch 55, CIFAR-10 Batch 1:  Cost:  0.274804 \t Accuracy:  0.655600\n",
      "Epoch 56, CIFAR-10 Batch 1:  Cost:  0.230080 \t Accuracy:  0.652800\n",
      "Epoch 57, CIFAR-10 Batch 1:  Cost:  0.217043 \t Accuracy:  0.659400\n",
      "Epoch 58, CIFAR-10 Batch 1:  Cost:  0.228121 \t Accuracy:  0.654000\n",
      "Epoch 59, CIFAR-10 Batch 1:  Cost:  0.213074 \t Accuracy:  0.652200\n",
      "Epoch 60, CIFAR-10 Batch 1:  Cost:  0.175135 \t Accuracy:  0.654400\n",
      "Epoch 61, CIFAR-10 Batch 1:  Cost:  0.182116 \t Accuracy:  0.647200\n",
      "Epoch 62, CIFAR-10 Batch 1:  Cost:  0.150315 \t Accuracy:  0.655400\n",
      "Epoch 63, CIFAR-10 Batch 1:  Cost:  0.145638 \t Accuracy:  0.650400\n",
      "Epoch 64, CIFAR-10 Batch 1:  Cost:  0.133117 \t Accuracy:  0.651000\n"
     ]
    }
   ],
   "source": [
    "\"\"\"\n",
    "DON'T MODIFY ANYTHING IN THIS CELL\n",
    "\"\"\"\n",
    "print('Checking the Training on a Single Batch...')\n",
    "with tf.Session() as sess:\n",
    "    # Initializing the variables\n",
    "    sess.run(tf.global_variables_initializer())\n",
    "    \n",
    "    # Training cycle\n",
    "    for epoch in range(epochs):\n",
    "        batch_i = 1\n",
    "        for batch_features, batch_labels in helper.load_preprocess_training_batch(batch_i, batch_size):\n",
    "            train_neural_network(sess, optimizer, keep_probability, batch_features, batch_labels)\n",
    "        print('Epoch {:>2}, CIFAR-10 Batch {}:  '.format(epoch + 1, batch_i), end='')\n",
    "        print_stats(sess, batch_features, batch_labels, cost, accuracy)"
   ]
  },
  {
   "cell_type": "markdown",
   "metadata": {},
   "source": [
    "### Fully Train the Model\n",
    "Now that you got a good accuracy with a single CIFAR-10 batch, try it with all five batches."
   ]
  },
  {
   "cell_type": "code",
   "execution_count": 25,
   "metadata": {
    "scrolled": true
   },
   "outputs": [
    {
     "name": "stdout",
     "output_type": "stream",
     "text": [
      "Training...\n",
      "Epoch  1, CIFAR-10 Batch 1:  Cost:  2.292216 \t Accuracy:  0.101800\n",
      "Epoch  1, CIFAR-10 Batch 2:  Cost:  2.256703 \t Accuracy:  0.197200\n",
      "Epoch  1, CIFAR-10 Batch 3:  Cost:  2.072209 \t Accuracy:  0.230600\n",
      "Epoch  1, CIFAR-10 Batch 4:  Cost:  1.982643 \t Accuracy:  0.298200\n",
      "Epoch  1, CIFAR-10 Batch 5:  Cost:  1.894957 \t Accuracy:  0.333000\n",
      "Epoch  2, CIFAR-10 Batch 1:  Cost:  1.948719 \t Accuracy:  0.356800\n",
      "Epoch  2, CIFAR-10 Batch 2:  Cost:  1.803831 \t Accuracy:  0.381400\n",
      "Epoch  2, CIFAR-10 Batch 3:  Cost:  1.652653 \t Accuracy:  0.390400\n",
      "Epoch  2, CIFAR-10 Batch 4:  Cost:  1.758174 \t Accuracy:  0.410800\n",
      "Epoch  2, CIFAR-10 Batch 5:  Cost:  1.700091 \t Accuracy:  0.429000\n",
      "Epoch  3, CIFAR-10 Batch 1:  Cost:  1.717385 \t Accuracy:  0.460400\n",
      "Epoch  3, CIFAR-10 Batch 2:  Cost:  1.564584 \t Accuracy:  0.453400\n",
      "Epoch  3, CIFAR-10 Batch 3:  Cost:  1.400458 \t Accuracy:  0.462600\n",
      "Epoch  3, CIFAR-10 Batch 4:  Cost:  1.537767 \t Accuracy:  0.466400\n",
      "Epoch  3, CIFAR-10 Batch 5:  Cost:  1.554892 \t Accuracy:  0.479600\n",
      "Epoch  4, CIFAR-10 Batch 1:  Cost:  1.669632 \t Accuracy:  0.484200\n",
      "Epoch  4, CIFAR-10 Batch 2:  Cost:  1.511516 \t Accuracy:  0.484200\n",
      "Epoch  4, CIFAR-10 Batch 3:  Cost:  1.264993 \t Accuracy:  0.498400\n",
      "Epoch  4, CIFAR-10 Batch 4:  Cost:  1.357218 \t Accuracy:  0.504800\n",
      "Epoch  4, CIFAR-10 Batch 5:  Cost:  1.528352 \t Accuracy:  0.482200\n",
      "Epoch  5, CIFAR-10 Batch 1:  Cost:  1.490684 \t Accuracy:  0.534600\n",
      "Epoch  5, CIFAR-10 Batch 2:  Cost:  1.376245 \t Accuracy:  0.528800\n",
      "Epoch  5, CIFAR-10 Batch 3:  Cost:  1.221960 \t Accuracy:  0.528600\n",
      "Epoch  5, CIFAR-10 Batch 4:  Cost:  1.244534 \t Accuracy:  0.536800\n",
      "Epoch  5, CIFAR-10 Batch 5:  Cost:  1.417035 \t Accuracy:  0.535600\n",
      "Epoch  6, CIFAR-10 Batch 1:  Cost:  1.322892 \t Accuracy:  0.560200\n",
      "Epoch  6, CIFAR-10 Batch 2:  Cost:  1.269103 \t Accuracy:  0.570000\n",
      "Epoch  6, CIFAR-10 Batch 3:  Cost:  1.107328 \t Accuracy:  0.558400\n",
      "Epoch  6, CIFAR-10 Batch 4:  Cost:  1.092055 \t Accuracy:  0.576200\n",
      "Epoch  6, CIFAR-10 Batch 5:  Cost:  1.312609 \t Accuracy:  0.555800\n",
      "Epoch  7, CIFAR-10 Batch 1:  Cost:  1.238223 \t Accuracy:  0.591400\n",
      "Epoch  7, CIFAR-10 Batch 2:  Cost:  1.190110 \t Accuracy:  0.588800\n",
      "Epoch  7, CIFAR-10 Batch 3:  Cost:  1.036270 \t Accuracy:  0.581200\n",
      "Epoch  7, CIFAR-10 Batch 4:  Cost:  1.022753 \t Accuracy:  0.594800\n",
      "Epoch  7, CIFAR-10 Batch 5:  Cost:  1.280518 \t Accuracy:  0.579800\n",
      "Epoch  8, CIFAR-10 Batch 1:  Cost:  1.112269 \t Accuracy:  0.618400\n",
      "Epoch  8, CIFAR-10 Batch 2:  Cost:  1.190474 \t Accuracy:  0.595400\n",
      "Epoch  8, CIFAR-10 Batch 3:  Cost:  0.974010 \t Accuracy:  0.622200\n",
      "Epoch  8, CIFAR-10 Batch 4:  Cost:  0.946208 \t Accuracy:  0.628400\n",
      "Epoch  8, CIFAR-10 Batch 5:  Cost:  1.181902 \t Accuracy:  0.619200\n",
      "Epoch  9, CIFAR-10 Batch 1:  Cost:  1.077456 \t Accuracy:  0.624600\n",
      "Epoch  9, CIFAR-10 Batch 2:  Cost:  1.061820 \t Accuracy:  0.634800\n",
      "Epoch  9, CIFAR-10 Batch 3:  Cost:  0.932430 \t Accuracy:  0.629200\n",
      "Epoch  9, CIFAR-10 Batch 4:  Cost:  0.902773 \t Accuracy:  0.635400\n",
      "Epoch  9, CIFAR-10 Batch 5:  Cost:  1.120287 \t Accuracy:  0.631000\n",
      "Epoch 10, CIFAR-10 Batch 1:  Cost:  0.996071 \t Accuracy:  0.647400\n",
      "Epoch 10, CIFAR-10 Batch 2:  Cost:  1.042871 \t Accuracy:  0.653400\n",
      "Epoch 10, CIFAR-10 Batch 3:  Cost:  0.905143 \t Accuracy:  0.619800\n",
      "Epoch 10, CIFAR-10 Batch 4:  Cost:  0.912505 \t Accuracy:  0.661200\n",
      "Epoch 10, CIFAR-10 Batch 5:  Cost:  1.074432 \t Accuracy:  0.643000\n",
      "Epoch 11, CIFAR-10 Batch 1:  Cost:  0.927862 \t Accuracy:  0.672400\n",
      "Epoch 11, CIFAR-10 Batch 2:  Cost:  1.096285 \t Accuracy:  0.643400\n",
      "Epoch 11, CIFAR-10 Batch 3:  Cost:  0.790477 \t Accuracy:  0.647400\n",
      "Epoch 11, CIFAR-10 Batch 4:  Cost:  0.807870 \t Accuracy:  0.676400\n",
      "Epoch 11, CIFAR-10 Batch 5:  Cost:  1.019668 \t Accuracy:  0.655400\n",
      "Epoch 12, CIFAR-10 Batch 1:  Cost:  0.959647 \t Accuracy:  0.671600\n",
      "Epoch 12, CIFAR-10 Batch 2:  Cost:  0.981185 \t Accuracy:  0.679000\n",
      "Epoch 12, CIFAR-10 Batch 3:  Cost:  0.706376 \t Accuracy:  0.672200\n",
      "Epoch 12, CIFAR-10 Batch 4:  Cost:  0.765574 \t Accuracy:  0.683200\n",
      "Epoch 12, CIFAR-10 Batch 5:  Cost:  0.924677 \t Accuracy:  0.669000\n",
      "Epoch 13, CIFAR-10 Batch 1:  Cost:  0.866374 \t Accuracy:  0.682600\n",
      "Epoch 13, CIFAR-10 Batch 2:  Cost:  0.863198 \t Accuracy:  0.697600\n",
      "Epoch 13, CIFAR-10 Batch 3:  Cost:  0.645918 \t Accuracy:  0.686200\n",
      "Epoch 13, CIFAR-10 Batch 4:  Cost:  0.696832 \t Accuracy:  0.703400\n",
      "Epoch 13, CIFAR-10 Batch 5:  Cost:  0.905935 \t Accuracy:  0.690800\n",
      "Epoch 14, CIFAR-10 Batch 1:  Cost:  0.807163 \t Accuracy:  0.696400\n",
      "Epoch 14, CIFAR-10 Batch 2:  Cost:  0.891396 \t Accuracy:  0.696600\n",
      "Epoch 14, CIFAR-10 Batch 3:  Cost:  0.626870 \t Accuracy:  0.703600\n",
      "Epoch 14, CIFAR-10 Batch 4:  Cost:  0.647512 \t Accuracy:  0.702600\n",
      "Epoch 14, CIFAR-10 Batch 5:  Cost:  0.913608 \t Accuracy:  0.674200\n",
      "Epoch 15, CIFAR-10 Batch 1:  Cost:  0.814535 \t Accuracy:  0.703400\n",
      "Epoch 15, CIFAR-10 Batch 2:  Cost:  0.763274 \t Accuracy:  0.717600\n",
      "Epoch 15, CIFAR-10 Batch 3:  Cost:  0.536747 \t Accuracy:  0.690000\n",
      "Epoch 15, CIFAR-10 Batch 4:  Cost:  0.714168 \t Accuracy:  0.709800\n",
      "Epoch 15, CIFAR-10 Batch 5:  Cost:  0.858112 \t Accuracy:  0.694800\n",
      "Epoch 16, CIFAR-10 Batch 1:  Cost:  0.774208 \t Accuracy:  0.712400\n",
      "Epoch 16, CIFAR-10 Batch 2:  Cost:  0.705426 \t Accuracy:  0.716400\n",
      "Epoch 16, CIFAR-10 Batch 3:  Cost:  0.620598 \t Accuracy:  0.678400\n",
      "Epoch 16, CIFAR-10 Batch 4:  Cost:  0.577907 \t Accuracy:  0.727600\n",
      "Epoch 16, CIFAR-10 Batch 5:  Cost:  0.774662 \t Accuracy:  0.695600\n",
      "Epoch 17, CIFAR-10 Batch 1:  Cost:  0.721176 \t Accuracy:  0.710400\n",
      "Epoch 17, CIFAR-10 Batch 2:  Cost:  0.669209 \t Accuracy:  0.724400\n",
      "Epoch 17, CIFAR-10 Batch 3:  Cost:  0.555662 \t Accuracy:  0.703400\n",
      "Epoch 17, CIFAR-10 Batch 4:  Cost:  0.649330 \t Accuracy:  0.719200\n",
      "Epoch 17, CIFAR-10 Batch 5:  Cost:  0.690699 \t Accuracy:  0.701600\n",
      "Epoch 18, CIFAR-10 Batch 1:  Cost:  0.602839 \t Accuracy:  0.736000\n",
      "Epoch 18, CIFAR-10 Batch 2:  Cost:  0.619490 \t Accuracy:  0.733600\n",
      "Epoch 18, CIFAR-10 Batch 3:  Cost:  0.448931 \t Accuracy:  0.727400\n",
      "Epoch 18, CIFAR-10 Batch 4:  Cost:  0.491642 \t Accuracy:  0.732600\n",
      "Epoch 18, CIFAR-10 Batch 5:  Cost:  0.654810 \t Accuracy:  0.728800\n",
      "Epoch 19, CIFAR-10 Batch 1:  Cost:  0.626367 \t Accuracy:  0.734200\n",
      "Epoch 19, CIFAR-10 Batch 2:  Cost:  0.640973 \t Accuracy:  0.733000\n",
      "Epoch 19, CIFAR-10 Batch 3:  Cost:  0.481844 \t Accuracy:  0.703200\n",
      "Epoch 19, CIFAR-10 Batch 4:  Cost:  0.480277 \t Accuracy:  0.736800\n",
      "Epoch 19, CIFAR-10 Batch 5:  Cost:  0.588385 \t Accuracy:  0.746600\n",
      "Epoch 20, CIFAR-10 Batch 1:  Cost:  0.576749 \t Accuracy:  0.750400\n",
      "Epoch 20, CIFAR-10 Batch 2:  Cost:  0.561237 \t Accuracy:  0.749400\n",
      "Epoch 20, CIFAR-10 Batch 3:  Cost:  0.374530 \t Accuracy:  0.736800\n",
      "Epoch 20, CIFAR-10 Batch 4:  Cost:  0.523325 \t Accuracy:  0.731800\n",
      "Epoch 20, CIFAR-10 Batch 5:  Cost:  0.575448 \t Accuracy:  0.743800\n",
      "Epoch 21, CIFAR-10 Batch 1:  Cost:  0.568522 \t Accuracy:  0.738000\n",
      "Epoch 21, CIFAR-10 Batch 2:  Cost:  0.551361 \t Accuracy:  0.734600\n",
      "Epoch 21, CIFAR-10 Batch 3:  Cost:  0.375965 \t Accuracy:  0.755400\n",
      "Epoch 21, CIFAR-10 Batch 4:  Cost:  0.493127 \t Accuracy:  0.744200\n",
      "Epoch 21, CIFAR-10 Batch 5:  Cost:  0.524373 \t Accuracy:  0.750800\n",
      "Epoch 22, CIFAR-10 Batch 1:  Cost:  0.488228 \t Accuracy:  0.751000\n",
      "Epoch 22, CIFAR-10 Batch 2:  Cost:  0.559796 \t Accuracy:  0.739000\n",
      "Epoch 22, CIFAR-10 Batch 3:  Cost:  0.403892 \t Accuracy:  0.748200\n",
      "Epoch 22, CIFAR-10 Batch 4:  Cost:  0.435165 \t Accuracy:  0.750200\n",
      "Epoch 22, CIFAR-10 Batch 5:  Cost:  0.473144 \t Accuracy:  0.744800\n",
      "Epoch 23, CIFAR-10 Batch 1:  Cost:  0.491498 \t Accuracy:  0.759400\n",
      "Epoch 23, CIFAR-10 Batch 2:  Cost:  0.522771 \t Accuracy:  0.747400\n",
      "Epoch 23, CIFAR-10 Batch 3:  Cost:  0.335876 \t Accuracy:  0.751600\n",
      "Epoch 23, CIFAR-10 Batch 4:  Cost:  0.408554 \t Accuracy:  0.758200\n",
      "Epoch 23, CIFAR-10 Batch 5:  Cost:  0.521616 \t Accuracy:  0.753000\n",
      "Epoch 24, CIFAR-10 Batch 1:  Cost:  0.472480 \t Accuracy:  0.748200\n",
      "Epoch 24, CIFAR-10 Batch 2:  Cost:  0.466532 \t Accuracy:  0.749200\n",
      "Epoch 24, CIFAR-10 Batch 3:  Cost:  0.328607 \t Accuracy:  0.763400\n",
      "Epoch 24, CIFAR-10 Batch 4:  Cost:  0.352174 \t Accuracy:  0.762200\n",
      "Epoch 24, CIFAR-10 Batch 5:  Cost:  0.445987 \t Accuracy:  0.760800\n",
      "Epoch 25, CIFAR-10 Batch 1:  Cost:  0.530868 \t Accuracy:  0.738600\n",
      "Epoch 25, CIFAR-10 Batch 2:  Cost:  0.491719 \t Accuracy:  0.749000\n"
     ]
    },
    {
     "name": "stdout",
     "output_type": "stream",
     "text": [
      "Epoch 25, CIFAR-10 Batch 3:  Cost:  0.283797 \t Accuracy:  0.763400\n",
      "Epoch 25, CIFAR-10 Batch 4:  Cost:  0.389050 \t Accuracy:  0.770800\n",
      "Epoch 25, CIFAR-10 Batch 5:  Cost:  0.449260 \t Accuracy:  0.749400\n",
      "Epoch 26, CIFAR-10 Batch 1:  Cost:  0.470470 \t Accuracy:  0.770200\n",
      "Epoch 26, CIFAR-10 Batch 2:  Cost:  0.433572 \t Accuracy:  0.753200\n",
      "Epoch 26, CIFAR-10 Batch 3:  Cost:  0.276618 \t Accuracy:  0.763800\n",
      "Epoch 26, CIFAR-10 Batch 4:  Cost:  0.381715 \t Accuracy:  0.760000\n",
      "Epoch 26, CIFAR-10 Batch 5:  Cost:  0.427992 \t Accuracy:  0.758600\n",
      "Epoch 27, CIFAR-10 Batch 1:  Cost:  0.414879 \t Accuracy:  0.765600\n",
      "Epoch 27, CIFAR-10 Batch 2:  Cost:  0.406791 \t Accuracy:  0.762400\n",
      "Epoch 27, CIFAR-10 Batch 3:  Cost:  0.315542 \t Accuracy:  0.764400\n",
      "Epoch 27, CIFAR-10 Batch 4:  Cost:  0.418299 \t Accuracy:  0.753800\n",
      "Epoch 27, CIFAR-10 Batch 5:  Cost:  0.338284 \t Accuracy:  0.768600\n",
      "Epoch 28, CIFAR-10 Batch 1:  Cost:  0.451660 \t Accuracy:  0.765800\n",
      "Epoch 28, CIFAR-10 Batch 2:  Cost:  0.447138 \t Accuracy:  0.762800\n",
      "Epoch 28, CIFAR-10 Batch 3:  Cost:  0.267469 \t Accuracy:  0.771600\n",
      "Epoch 28, CIFAR-10 Batch 4:  Cost:  0.381434 \t Accuracy:  0.760600\n",
      "Epoch 28, CIFAR-10 Batch 5:  Cost:  0.350532 \t Accuracy:  0.767800\n",
      "Epoch 29, CIFAR-10 Batch 1:  Cost:  0.386298 \t Accuracy:  0.775000\n",
      "Epoch 29, CIFAR-10 Batch 2:  Cost:  0.407970 \t Accuracy:  0.761000\n",
      "Epoch 29, CIFAR-10 Batch 3:  Cost:  0.285851 \t Accuracy:  0.774600\n",
      "Epoch 29, CIFAR-10 Batch 4:  Cost:  0.337244 \t Accuracy:  0.778400\n",
      "Epoch 29, CIFAR-10 Batch 5:  Cost:  0.331148 \t Accuracy:  0.773800\n",
      "Epoch 30, CIFAR-10 Batch 1:  Cost:  0.364790 \t Accuracy:  0.774400\n",
      "Epoch 30, CIFAR-10 Batch 2:  Cost:  0.403390 \t Accuracy:  0.750800\n",
      "Epoch 30, CIFAR-10 Batch 3:  Cost:  0.266488 \t Accuracy:  0.779800\n",
      "Epoch 30, CIFAR-10 Batch 4:  Cost:  0.313100 \t Accuracy:  0.769800\n",
      "Epoch 30, CIFAR-10 Batch 5:  Cost:  0.303153 \t Accuracy:  0.779600\n",
      "Epoch 31, CIFAR-10 Batch 1:  Cost:  0.388981 \t Accuracy:  0.778200\n",
      "Epoch 31, CIFAR-10 Batch 2:  Cost:  0.369121 \t Accuracy:  0.762400\n",
      "Epoch 31, CIFAR-10 Batch 3:  Cost:  0.221920 \t Accuracy:  0.782600\n",
      "Epoch 31, CIFAR-10 Batch 4:  Cost:  0.306902 \t Accuracy:  0.781600\n",
      "Epoch 31, CIFAR-10 Batch 5:  Cost:  0.293047 \t Accuracy:  0.785400\n",
      "Epoch 32, CIFAR-10 Batch 1:  Cost:  0.354655 \t Accuracy:  0.781800\n",
      "Epoch 32, CIFAR-10 Batch 2:  Cost:  0.348649 \t Accuracy:  0.775400\n",
      "Epoch 32, CIFAR-10 Batch 3:  Cost:  0.230677 \t Accuracy:  0.786200\n",
      "Epoch 32, CIFAR-10 Batch 4:  Cost:  0.277089 \t Accuracy:  0.777800\n",
      "Epoch 32, CIFAR-10 Batch 5:  Cost:  0.273614 \t Accuracy:  0.783000\n",
      "Epoch 33, CIFAR-10 Batch 1:  Cost:  0.370980 \t Accuracy:  0.772400\n",
      "Epoch 33, CIFAR-10 Batch 2:  Cost:  0.389338 \t Accuracy:  0.777000\n",
      "Epoch 33, CIFAR-10 Batch 3:  Cost:  0.263867 \t Accuracy:  0.779800\n",
      "Epoch 33, CIFAR-10 Batch 4:  Cost:  0.279434 \t Accuracy:  0.770800\n",
      "Epoch 33, CIFAR-10 Batch 5:  Cost:  0.285967 \t Accuracy:  0.775800\n",
      "Epoch 34, CIFAR-10 Batch 1:  Cost:  0.301102 \t Accuracy:  0.784800\n",
      "Epoch 34, CIFAR-10 Batch 2:  Cost:  0.324906 \t Accuracy:  0.778200\n",
      "Epoch 34, CIFAR-10 Batch 3:  Cost:  0.200957 \t Accuracy:  0.776200\n",
      "Epoch 34, CIFAR-10 Batch 4:  Cost:  0.267278 \t Accuracy:  0.784800\n",
      "Epoch 34, CIFAR-10 Batch 5:  Cost:  0.278039 \t Accuracy:  0.779400\n",
      "Epoch 35, CIFAR-10 Batch 1:  Cost:  0.283046 \t Accuracy:  0.781600\n",
      "Epoch 35, CIFAR-10 Batch 2:  Cost:  0.330530 \t Accuracy:  0.777000\n",
      "Epoch 35, CIFAR-10 Batch 3:  Cost:  0.203081 \t Accuracy:  0.771600\n",
      "Epoch 35, CIFAR-10 Batch 4:  Cost:  0.255877 \t Accuracy:  0.777400\n",
      "Epoch 35, CIFAR-10 Batch 5:  Cost:  0.262663 \t Accuracy:  0.784200\n",
      "Epoch 36, CIFAR-10 Batch 1:  Cost:  0.306461 \t Accuracy:  0.776400\n",
      "Epoch 36, CIFAR-10 Batch 2:  Cost:  0.310885 \t Accuracy:  0.779400\n",
      "Epoch 36, CIFAR-10 Batch 3:  Cost:  0.179062 \t Accuracy:  0.784200\n",
      "Epoch 36, CIFAR-10 Batch 4:  Cost:  0.216144 \t Accuracy:  0.786000\n",
      "Epoch 36, CIFAR-10 Batch 5:  Cost:  0.241347 \t Accuracy:  0.775400\n",
      "Epoch 37, CIFAR-10 Batch 1:  Cost:  0.248954 \t Accuracy:  0.787600\n",
      "Epoch 37, CIFAR-10 Batch 2:  Cost:  0.297362 \t Accuracy:  0.787400\n",
      "Epoch 37, CIFAR-10 Batch 3:  Cost:  0.179162 \t Accuracy:  0.783800\n",
      "Epoch 37, CIFAR-10 Batch 4:  Cost:  0.190657 \t Accuracy:  0.791400\n",
      "Epoch 37, CIFAR-10 Batch 5:  Cost:  0.173383 \t Accuracy:  0.785600\n",
      "Epoch 38, CIFAR-10 Batch 1:  Cost:  0.259690 \t Accuracy:  0.782000\n",
      "Epoch 38, CIFAR-10 Batch 2:  Cost:  0.261694 \t Accuracy:  0.791600\n",
      "Epoch 38, CIFAR-10 Batch 3:  Cost:  0.177672 \t Accuracy:  0.793800\n",
      "Epoch 38, CIFAR-10 Batch 4:  Cost:  0.172570 \t Accuracy:  0.787200\n",
      "Epoch 38, CIFAR-10 Batch 5:  Cost:  0.210940 \t Accuracy:  0.777800\n",
      "Epoch 39, CIFAR-10 Batch 1:  Cost:  0.262249 \t Accuracy:  0.786600\n",
      "Epoch 39, CIFAR-10 Batch 2:  Cost:  0.309575 \t Accuracy:  0.782000\n",
      "Epoch 39, CIFAR-10 Batch 3:  Cost:  0.145559 \t Accuracy:  0.796400\n",
      "Epoch 39, CIFAR-10 Batch 4:  Cost:  0.182420 \t Accuracy:  0.786600\n",
      "Epoch 39, CIFAR-10 Batch 5:  Cost:  0.182618 \t Accuracy:  0.786600\n",
      "Epoch 40, CIFAR-10 Batch 1:  Cost:  0.224094 \t Accuracy:  0.794400\n",
      "Epoch 40, CIFAR-10 Batch 2:  Cost:  0.239363 \t Accuracy:  0.774400\n",
      "Epoch 40, CIFAR-10 Batch 3:  Cost:  0.201936 \t Accuracy:  0.788000\n",
      "Epoch 40, CIFAR-10 Batch 4:  Cost:  0.204430 \t Accuracy:  0.777600\n",
      "Epoch 40, CIFAR-10 Batch 5:  Cost:  0.181920 \t Accuracy:  0.794400\n",
      "Epoch 41, CIFAR-10 Batch 1:  Cost:  0.224406 \t Accuracy:  0.787200\n",
      "Epoch 41, CIFAR-10 Batch 2:  Cost:  0.282386 \t Accuracy:  0.785800\n",
      "Epoch 41, CIFAR-10 Batch 3:  Cost:  0.161921 \t Accuracy:  0.793800\n",
      "Epoch 41, CIFAR-10 Batch 4:  Cost:  0.161789 \t Accuracy:  0.794000\n",
      "Epoch 41, CIFAR-10 Batch 5:  Cost:  0.161934 \t Accuracy:  0.795200\n",
      "Epoch 42, CIFAR-10 Batch 1:  Cost:  0.217670 \t Accuracy:  0.786800\n",
      "Epoch 42, CIFAR-10 Batch 2:  Cost:  0.236786 \t Accuracy:  0.783800\n",
      "Epoch 42, CIFAR-10 Batch 3:  Cost:  0.151735 \t Accuracy:  0.786200\n",
      "Epoch 42, CIFAR-10 Batch 4:  Cost:  0.148602 \t Accuracy:  0.787400\n",
      "Epoch 42, CIFAR-10 Batch 5:  Cost:  0.173757 \t Accuracy:  0.787800\n",
      "Epoch 43, CIFAR-10 Batch 1:  Cost:  0.214952 \t Accuracy:  0.782800\n",
      "Epoch 43, CIFAR-10 Batch 2:  Cost:  0.298449 \t Accuracy:  0.788600\n",
      "Epoch 43, CIFAR-10 Batch 3:  Cost:  0.163600 \t Accuracy:  0.798200\n",
      "Epoch 43, CIFAR-10 Batch 4:  Cost:  0.141287 \t Accuracy:  0.798600\n",
      "Epoch 43, CIFAR-10 Batch 5:  Cost:  0.177225 \t Accuracy:  0.790200\n",
      "Epoch 44, CIFAR-10 Batch 1:  Cost:  0.196586 \t Accuracy:  0.795000\n",
      "Epoch 44, CIFAR-10 Batch 2:  Cost:  0.236281 \t Accuracy:  0.784200\n",
      "Epoch 44, CIFAR-10 Batch 3:  Cost:  0.127201 \t Accuracy:  0.794400\n",
      "Epoch 44, CIFAR-10 Batch 4:  Cost:  0.139748 \t Accuracy:  0.797400\n",
      "Epoch 44, CIFAR-10 Batch 5:  Cost:  0.173997 \t Accuracy:  0.791600\n",
      "Epoch 45, CIFAR-10 Batch 1:  Cost:  0.187024 \t Accuracy:  0.791000\n",
      "Epoch 45, CIFAR-10 Batch 2:  Cost:  0.234223 \t Accuracy:  0.791000\n",
      "Epoch 45, CIFAR-10 Batch 3:  Cost:  0.120425 \t Accuracy:  0.797400\n",
      "Epoch 45, CIFAR-10 Batch 4:  Cost:  0.154678 \t Accuracy:  0.795000\n",
      "Epoch 45, CIFAR-10 Batch 5:  Cost:  0.147902 \t Accuracy:  0.791600\n",
      "Epoch 46, CIFAR-10 Batch 1:  Cost:  0.188289 \t Accuracy:  0.794200\n",
      "Epoch 46, CIFAR-10 Batch 2:  Cost:  0.231912 \t Accuracy:  0.792400\n",
      "Epoch 46, CIFAR-10 Batch 3:  Cost:  0.110993 \t Accuracy:  0.797200\n",
      "Epoch 46, CIFAR-10 Batch 4:  Cost:  0.137307 \t Accuracy:  0.803000\n",
      "Epoch 46, CIFAR-10 Batch 5:  Cost:  0.136501 \t Accuracy:  0.797400\n",
      "Epoch 47, CIFAR-10 Batch 1:  Cost:  0.184295 \t Accuracy:  0.792800\n",
      "Epoch 47, CIFAR-10 Batch 2:  Cost:  0.210213 \t Accuracy:  0.797000\n",
      "Epoch 47, CIFAR-10 Batch 3:  Cost:  0.089190 \t Accuracy:  0.797400\n",
      "Epoch 47, CIFAR-10 Batch 4:  Cost:  0.131552 \t Accuracy:  0.802400\n",
      "Epoch 47, CIFAR-10 Batch 5:  Cost:  0.157939 \t Accuracy:  0.797800\n",
      "Epoch 48, CIFAR-10 Batch 1:  Cost:  0.182300 \t Accuracy:  0.789000\n",
      "Epoch 48, CIFAR-10 Batch 2:  Cost:  0.209450 \t Accuracy:  0.793200\n",
      "Epoch 48, CIFAR-10 Batch 3:  Cost:  0.124708 \t Accuracy:  0.800600\n",
      "Epoch 48, CIFAR-10 Batch 4:  Cost:  0.156270 \t Accuracy:  0.788200\n",
      "Epoch 48, CIFAR-10 Batch 5:  Cost:  0.131993 \t Accuracy:  0.802400\n",
      "Epoch 49, CIFAR-10 Batch 1:  Cost:  0.172276 \t Accuracy:  0.791800\n",
      "Epoch 49, CIFAR-10 Batch 2:  Cost:  0.216139 \t Accuracy:  0.791400\n",
      "Epoch 49, CIFAR-10 Batch 3:  Cost:  0.108006 \t Accuracy:  0.797600\n",
      "Epoch 49, CIFAR-10 Batch 4:  Cost:  0.175578 \t Accuracy:  0.795600\n"
     ]
    },
    {
     "name": "stdout",
     "output_type": "stream",
     "text": [
      "Epoch 49, CIFAR-10 Batch 5:  Cost:  0.141286 \t Accuracy:  0.799800\n",
      "Epoch 50, CIFAR-10 Batch 1:  Cost:  0.126757 \t Accuracy:  0.792200\n",
      "Epoch 50, CIFAR-10 Batch 2:  Cost:  0.202098 \t Accuracy:  0.798600\n",
      "Epoch 50, CIFAR-10 Batch 3:  Cost:  0.102218 \t Accuracy:  0.797600\n",
      "Epoch 50, CIFAR-10 Batch 4:  Cost:  0.125167 \t Accuracy:  0.802200\n",
      "Epoch 50, CIFAR-10 Batch 5:  Cost:  0.119759 \t Accuracy:  0.798600\n",
      "Epoch 51, CIFAR-10 Batch 1:  Cost:  0.164708 \t Accuracy:  0.786000\n",
      "Epoch 51, CIFAR-10 Batch 2:  Cost:  0.177803 \t Accuracy:  0.804400\n",
      "Epoch 51, CIFAR-10 Batch 3:  Cost:  0.093769 \t Accuracy:  0.794200\n",
      "Epoch 51, CIFAR-10 Batch 4:  Cost:  0.149432 \t Accuracy:  0.796200\n",
      "Epoch 51, CIFAR-10 Batch 5:  Cost:  0.132926 \t Accuracy:  0.799600\n",
      "Epoch 52, CIFAR-10 Batch 1:  Cost:  0.158236 \t Accuracy:  0.801400\n",
      "Epoch 52, CIFAR-10 Batch 2:  Cost:  0.219402 \t Accuracy:  0.797800\n",
      "Epoch 52, CIFAR-10 Batch 3:  Cost:  0.091259 \t Accuracy:  0.790400\n",
      "Epoch 52, CIFAR-10 Batch 4:  Cost:  0.127541 \t Accuracy:  0.798200\n",
      "Epoch 52, CIFAR-10 Batch 5:  Cost:  0.139368 \t Accuracy:  0.787400\n",
      "Epoch 53, CIFAR-10 Batch 1:  Cost:  0.143575 \t Accuracy:  0.791000\n",
      "Epoch 53, CIFAR-10 Batch 2:  Cost:  0.209666 \t Accuracy:  0.781800\n",
      "Epoch 53, CIFAR-10 Batch 3:  Cost:  0.087093 \t Accuracy:  0.797200\n",
      "Epoch 53, CIFAR-10 Batch 4:  Cost:  0.093598 \t Accuracy:  0.799200\n",
      "Epoch 53, CIFAR-10 Batch 5:  Cost:  0.101329 \t Accuracy:  0.791000\n",
      "Epoch 54, CIFAR-10 Batch 1:  Cost:  0.128660 \t Accuracy:  0.802000\n",
      "Epoch 54, CIFAR-10 Batch 2:  Cost:  0.224158 \t Accuracy:  0.787800\n",
      "Epoch 54, CIFAR-10 Batch 3:  Cost:  0.092865 \t Accuracy:  0.792400\n",
      "Epoch 54, CIFAR-10 Batch 4:  Cost:  0.103277 \t Accuracy:  0.805600\n",
      "Epoch 54, CIFAR-10 Batch 5:  Cost:  0.102400 \t Accuracy:  0.798400\n",
      "Epoch 55, CIFAR-10 Batch 1:  Cost:  0.126844 \t Accuracy:  0.808600\n",
      "Epoch 55, CIFAR-10 Batch 2:  Cost:  0.169654 \t Accuracy:  0.808200\n",
      "Epoch 55, CIFAR-10 Batch 3:  Cost:  0.090391 \t Accuracy:  0.796400\n",
      "Epoch 55, CIFAR-10 Batch 4:  Cost:  0.087650 \t Accuracy:  0.801400\n",
      "Epoch 55, CIFAR-10 Batch 5:  Cost:  0.096193 \t Accuracy:  0.792200\n",
      "Epoch 56, CIFAR-10 Batch 1:  Cost:  0.138065 \t Accuracy:  0.799400\n",
      "Epoch 56, CIFAR-10 Batch 2:  Cost:  0.171978 \t Accuracy:  0.800800\n",
      "Epoch 56, CIFAR-10 Batch 3:  Cost:  0.068502 \t Accuracy:  0.795800\n",
      "Epoch 56, CIFAR-10 Batch 4:  Cost:  0.087761 \t Accuracy:  0.804000\n",
      "Epoch 56, CIFAR-10 Batch 5:  Cost:  0.085906 \t Accuracy:  0.809200\n",
      "Epoch 57, CIFAR-10 Batch 1:  Cost:  0.143752 \t Accuracy:  0.795600\n",
      "Epoch 57, CIFAR-10 Batch 2:  Cost:  0.151497 \t Accuracy:  0.791800\n",
      "Epoch 57, CIFAR-10 Batch 3:  Cost:  0.072465 \t Accuracy:  0.798600\n",
      "Epoch 57, CIFAR-10 Batch 4:  Cost:  0.091648 \t Accuracy:  0.800200\n",
      "Epoch 57, CIFAR-10 Batch 5:  Cost:  0.146310 \t Accuracy:  0.796600\n",
      "Epoch 58, CIFAR-10 Batch 1:  Cost:  0.120895 \t Accuracy:  0.797400\n",
      "Epoch 58, CIFAR-10 Batch 2:  Cost:  0.161751 \t Accuracy:  0.799000\n",
      "Epoch 58, CIFAR-10 Batch 3:  Cost:  0.089168 \t Accuracy:  0.803600\n",
      "Epoch 58, CIFAR-10 Batch 4:  Cost:  0.113559 \t Accuracy:  0.793600\n",
      "Epoch 58, CIFAR-10 Batch 5:  Cost:  0.124048 \t Accuracy:  0.800200\n",
      "Epoch 59, CIFAR-10 Batch 1:  Cost:  0.117502 \t Accuracy:  0.802000\n",
      "Epoch 59, CIFAR-10 Batch 2:  Cost:  0.173774 \t Accuracy:  0.800800\n",
      "Epoch 59, CIFAR-10 Batch 3:  Cost:  0.090513 \t Accuracy:  0.783400\n",
      "Epoch 59, CIFAR-10 Batch 4:  Cost:  0.097221 \t Accuracy:  0.804400\n",
      "Epoch 59, CIFAR-10 Batch 5:  Cost:  0.101786 \t Accuracy:  0.794600\n",
      "Epoch 60, CIFAR-10 Batch 1:  Cost:  0.116346 \t Accuracy:  0.799800\n",
      "Epoch 60, CIFAR-10 Batch 2:  Cost:  0.187069 \t Accuracy:  0.795600\n",
      "Epoch 60, CIFAR-10 Batch 3:  Cost:  0.086928 \t Accuracy:  0.799200\n",
      "Epoch 60, CIFAR-10 Batch 4:  Cost:  0.093660 \t Accuracy:  0.812400\n",
      "Epoch 60, CIFAR-10 Batch 5:  Cost:  0.089882 \t Accuracy:  0.792600\n",
      "Epoch 61, CIFAR-10 Batch 1:  Cost:  0.111070 \t Accuracy:  0.801000\n",
      "Epoch 61, CIFAR-10 Batch 2:  Cost:  0.134979 \t Accuracy:  0.799000\n",
      "Epoch 61, CIFAR-10 Batch 3:  Cost:  0.067225 \t Accuracy:  0.804200\n",
      "Epoch 61, CIFAR-10 Batch 4:  Cost:  0.095421 \t Accuracy:  0.801600\n",
      "Epoch 61, CIFAR-10 Batch 5:  Cost:  0.095532 \t Accuracy:  0.803600\n",
      "Epoch 62, CIFAR-10 Batch 1:  Cost:  0.125468 \t Accuracy:  0.793400\n",
      "Epoch 62, CIFAR-10 Batch 2:  Cost:  0.138375 \t Accuracy:  0.808400\n",
      "Epoch 62, CIFAR-10 Batch 3:  Cost:  0.079013 \t Accuracy:  0.797800\n",
      "Epoch 62, CIFAR-10 Batch 4:  Cost:  0.080996 \t Accuracy:  0.803200\n",
      "Epoch 62, CIFAR-10 Batch 5:  Cost:  0.077147 \t Accuracy:  0.804600\n",
      "Epoch 63, CIFAR-10 Batch 1:  Cost:  0.108224 \t Accuracy:  0.801200\n",
      "Epoch 63, CIFAR-10 Batch 2:  Cost:  0.127036 \t Accuracy:  0.799000\n",
      "Epoch 63, CIFAR-10 Batch 3:  Cost:  0.064997 \t Accuracy:  0.805000\n",
      "Epoch 63, CIFAR-10 Batch 4:  Cost:  0.078548 \t Accuracy:  0.806400\n",
      "Epoch 63, CIFAR-10 Batch 5:  Cost:  0.097932 \t Accuracy:  0.783600\n",
      "Epoch 64, CIFAR-10 Batch 1:  Cost:  0.107145 \t Accuracy:  0.803000\n",
      "Epoch 64, CIFAR-10 Batch 2:  Cost:  0.104098 \t Accuracy:  0.809000\n",
      "Epoch 64, CIFAR-10 Batch 3:  Cost:  0.067362 \t Accuracy:  0.804400\n",
      "Epoch 64, CIFAR-10 Batch 4:  Cost:  0.088361 \t Accuracy:  0.798200\n",
      "Epoch 64, CIFAR-10 Batch 5:  Cost:  0.078735 \t Accuracy:  0.802200\n"
     ]
    }
   ],
   "source": [
    "\"\"\"\n",
    "DON'T MODIFY ANYTHING IN THIS CELL\n",
    "\"\"\"\n",
    "save_model_path = './image_classification'\n",
    "\n",
    "print('Training...')\n",
    "with tf.Session() as sess:\n",
    "    # Initializing the variables\n",
    "    sess.run(tf.global_variables_initializer())\n",
    "    \n",
    "    # Training cycle\n",
    "    for epoch in range(epochs):\n",
    "        # Loop over all batches\n",
    "        n_batches = 5\n",
    "        for batch_i in range(1, n_batches + 1):\n",
    "            for batch_features, batch_labels in helper.load_preprocess_training_batch(batch_i, batch_size):\n",
    "                train_neural_network(sess, optimizer, keep_probability, batch_features, batch_labels)\n",
    "            print('Epoch {:>2}, CIFAR-10 Batch {}:  '.format(epoch + 1, batch_i), end='')\n",
    "            print_stats(sess, batch_features, batch_labels, cost, accuracy)\n",
    "            \n",
    "    # Save Model\n",
    "    saver = tf.train.Saver()\n",
    "    save_path = saver.save(sess, save_model_path)"
   ]
  },
  {
   "cell_type": "markdown",
   "metadata": {},
   "source": [
    "# Checkpoint\n",
    "The model has been saved to disk.\n",
    "## Test Model\n",
    "Test your model against the test dataset.  This will be your final accuracy. You should have an accuracy greater than 50%. If you don't, keep tweaking the model architecture and parameters."
   ]
  },
  {
   "cell_type": "code",
   "execution_count": 26,
   "metadata": {},
   "outputs": [
    {
     "name": "stdout",
     "output_type": "stream",
     "text": [
      "INFO:tensorflow:Restoring parameters from ./image_classification\n",
      "Testing Accuracy: 0.8006329113924051\n",
      "\n"
     ]
    },
    {
     "data": {
      "image/png": "[encoded data removed]",
      "text/plain": [
       "<matplotlib.figure.Figure at 0x7f8fb7301390>"
      ]
     },
     "metadata": {
      "image/png": {
       "height": 319,
       "width": 355
      }
     },
     "output_type": "display_data"
    }
   ],
   "source": [
    "\"\"\"\n",
    "DON'T MODIFY ANYTHING IN THIS CELL\n",
    "\"\"\"\n",
    "%matplotlib inline\n",
    "%config InlineBackend.figure_format = 'retina'\n",
    "\n",
    "import tensorflow as tf\n",
    "import pickle\n",
    "import helper\n",
    "import random\n",
    "\n",
    "# Set batch size if not already set\n",
    "try:\n",
    "    if batch_size:\n",
    "        pass\n",
    "except NameError:\n",
    "    batch_size = 64\n",
    "\n",
    "save_model_path = './image_classification'\n",
    "n_samples = 4\n",
    "top_n_predictions = 3\n",
    "\n",
    "def test_model():\n",
    "    \"\"\"\n",
    "    Test the saved model against the test dataset\n",
    "    \"\"\"\n",
    "\n",
    "    test_features, test_labels = pickle.load(open('preprocess_training.p', mode='rb'))\n",
    "    loaded_graph = tf.Graph()\n",
    "\n",
    "    with tf.Session(graph=loaded_graph) as sess:\n",
    "        # Load model\n",
    "        loader = tf.train.import_meta_graph(save_model_path + '.meta')\n",
    "        loader.restore(sess, save_model_path)\n",
    "\n",
    "        # Get Tensors from loaded model\n",
    "        loaded_x = loaded_graph.get_tensor_by_name('x:0')\n",
    "        loaded_y = loaded_graph.get_tensor_by_name('y:0')\n",
    "        loaded_keep_prob = loaded_graph.get_tensor_by_name('keep_prob:0')\n",
    "        loaded_logits = loaded_graph.get_tensor_by_name('logits:0')\n",
    "        loaded_acc = loaded_graph.get_tensor_by_name('accuracy:0')\n",
    "        \n",
    "        # Get accuracy in batches for memory limitations\n",
    "        test_batch_acc_total = 0\n",
    "        test_batch_count = 0\n",
    "        \n",
    "        for train_feature_batch, train_label_batch in helper.batch_features_labels(test_features, test_labels, batch_size):\n",
    "            test_batch_acc_total += sess.run(\n",
    "                loaded_acc,\n",
    "                feed_dict={loaded_x: train_feature_batch, loaded_y: train_label_batch, loaded_keep_prob: 1.0})\n",
    "            test_batch_count += 1\n",
    "\n",
    "        print('Testing Accuracy: {}\\n'.format(test_batch_acc_total/test_batch_count))\n",
    "\n",
    "        # Print Random Samples\n",
    "        random_test_features, random_test_labels = tuple(zip(*random.sample(list(zip(test_features, test_labels)), n_samples)))\n",
    "        random_test_predictions = sess.run(\n",
    "            tf.nn.top_k(tf.nn.softmax(loaded_logits), top_n_predictions),\n",
    "            feed_dict={loaded_x: random_test_features, loaded_y: random_test_labels, loaded_keep_prob: 1.0})\n",
    "        helper.display_image_predictions(random_test_features, random_test_labels, random_test_predictions)\n",
    "\n",
    "\n",
    "test_model()"
   ]
  },
  {
   "cell_type": "markdown",
   "metadata": {},
   "source": [
    "## Why 50-70% Accuracy?\n",
    "You might be wondering why you can't get an accuracy any higher. First things first, 50% isn't bad for a simple CNN.  Pure guessing would get you 10% accuracy. However, you might notice people are getting scores [well above 70%](http://rodrigob.github.io/are_we_there_yet/build/classification_datasets_results.html#43494641522d3130).  That's because we haven't taught you all there is to know about neural networks. We still need to cover a few more techniques.\n",
    "## Submitting This Project\n",
    "When submitting this project, make sure to run all the cells before saving the notebook.  Save the notebook file as \"dlnd_image_classification.ipynb\" and save it as a HTML file under \"File\" -> \"Download as\".  Include the \"helper.py\" and \"problem_unittests.py\" files in your submission."
   ]
  }
 ],
 "metadata": {
  "kernelspec": {
   "display_name": "Python 3",
   "language": "python",
   "name": "python3"
  },
  "language_info": {
   "codemirror_mode": {
    "name": "ipython",
    "version": 3
   },
   "file_extension": ".py",
   "mimetype": "text/x-python",
   "name": "python",
   "nbconvert_exporter": "python",
   "pygments_lexer": "ipython3",
   "version": "3.5.3"
  }
 },
 "nbformat": 4,
 "nbformat_minor": 1
}
