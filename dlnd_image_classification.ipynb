{
 "cells": [
  {
   "cell_type": "markdown",
   "metadata": {
    "collapsed": true
   },
   "source": [
    "# Image Classification\n",
    "In this project, you'll classify images from the [CIFAR-10 dataset](https://www.cs.toronto.edu/~kriz/cifar.html).  The dataset consists of airplanes, dogs, cats, and other objects. You'll preprocess the images, then train a convolutional neural network on all the samples. The images need to be normalized and the labels need to be one-hot encoded.  You'll get to apply what you learned and build a convolutional, max pooling, dropout, and fully connected layers.  At the end, you'll get to see your neural network's predictions on the sample images.\n",
    "## Get the Data\n",
    "Run the following cell to download the [CIFAR-10 dataset for python](https://www.cs.toronto.edu/~kriz/cifar-10-python.tar.gz)."
   ]
  },
  {
   "cell_type": "code",
   "execution_count": 1,
   "metadata": {},
   "outputs": [
    {
     "name": "stdout",
     "output_type": "stream",
     "text": [
      "All files found!\n"
     ]
    }
   ],
   "source": [
    "\"\"\"\n",
    "DON'T MODIFY ANYTHING IN THIS CELL THAT IS BELOW THIS LINE\n",
    "\"\"\"\n",
    "from urllib.request import urlretrieve\n",
    "from os.path import isfile, isdir\n",
    "from tqdm import tqdm\n",
    "import problem_unittests as tests\n",
    "import tarfile\n",
    "\n",
    "cifar10_dataset_folder_path = 'cifar-10-batches-py'\n",
    "\n",
    "# Use Floyd's cifar-10 dataset if present\n",
    "floyd_cifar10_location = '/input/cifar-10/python.tar.gz'\n",
    "if isfile(floyd_cifar10_location):\n",
    "    tar_gz_path = floyd_cifar10_location\n",
    "else:\n",
    "    tar_gz_path = 'cifar-10-python.tar.gz'\n",
    "\n",
    "class DLProgress(tqdm):\n",
    "    last_block = 0\n",
    "\n",
    "    def hook(self, block_num=1, block_size=1, total_size=None):\n",
    "        self.total = total_size\n",
    "        self.update((block_num - self.last_block) * block_size)\n",
    "        self.last_block = block_num\n",
    "\n",
    "if not isfile(tar_gz_path):\n",
    "    with DLProgress(unit='B', unit_scale=True, miniters=1, desc='CIFAR-10 Dataset') as pbar:\n",
    "        urlretrieve(\n",
    "            'https://www.cs.toronto.edu/~kriz/cifar-10-python.tar.gz',\n",
    "            tar_gz_path,\n",
    "            pbar.hook)\n",
    "\n",
    "if not isdir(cifar10_dataset_folder_path):\n",
    "    with tarfile.open(tar_gz_path) as tar:\n",
    "        tar.extractall()\n",
    "        tar.close()\n",
    "\n",
    "\n",
    "tests.test_folder_path(cifar10_dataset_folder_path)"
   ]
  },
  {
   "cell_type": "markdown",
   "metadata": {},
   "source": [
    "## Explore the Data\n",
    "The dataset is broken into batches to prevent your machine from running out of memory.  The CIFAR-10 dataset consists of 5 batches, named `data_batch_1`, `data_batch_2`, etc.. Each batch contains the labels and images that are one of the following:\n",
    "* airplane\n",
    "* automobile\n",
    "* bird\n",
    "* cat\n",
    "* deer\n",
    "* dog\n",
    "* frog\n",
    "* horse\n",
    "* ship\n",
    "* truck\n",
    "\n",
    "Understanding a dataset is part of making predictions on the data.  Play around with the code cell below by changing the `batch_id` and `sample_id`. The `batch_id` is the id for a batch (1-5). The `sample_id` is the id for a image and label pair in the batch.\n",
    "\n",
    "Ask yourself \"What are all possible labels?\", \"What is the range of values for the image data?\", \"Are the labels in order or random?\".  Answers to questions like these will help you preprocess the data and end up with better predictions."
   ]
  },
  {
   "cell_type": "code",
   "execution_count": 2,
   "metadata": {},
   "outputs": [
    {
     "name": "stdout",
     "output_type": "stream",
     "text": [
      "\n",
      "Stats of batch 1:\n",
      "Samples: 10000\n",
      "Label Counts: {0: 1005, 1: 974, 2: 1032, 3: 1016, 4: 999, 5: 937, 6: 1030, 7: 1001, 8: 1025, 9: 981}\n",
      "First 20 Labels: [6, 9, 9, 4, 1, 1, 2, 7, 8, 3, 4, 7, 7, 2, 9, 9, 9, 3, 2, 6]\n",
      "\n",
      "Example of Image 5:\n",
      "Image - Min Value: 0 Max Value: 252\n",
      "Image - Shape: (32, 32, 3)\n",
      "Label - Label Id: 1 Name: automobile\n"
     ]
    },
    {
     "data": {
      "image/png": "[encoded data removed]",
      "text/plain": [
       "<matplotlib.figure.Figure at 0x7f7e2875e748>"
      ]
     },
     "metadata": {
      "image/png": {
       "height": 250,
       "width": 253
      }
     },
     "output_type": "display_data"
    }
   ],
   "source": [
    "%matplotlib inline\n",
    "%config InlineBackend.figure_format = 'retina'\n",
    "\n",
    "import helper\n",
    "import numpy as np\n",
    "\n",
    "# Explore the dataset\n",
    "batch_id = 1\n",
    "sample_id = 5\n",
    "helper.display_stats(cifar10_dataset_folder_path, batch_id, sample_id)"
   ]
  },
  {
   "cell_type": "markdown",
   "metadata": {},
   "source": [
    "## Implement Preprocess Functions\n",
    "### Normalize\n",
    "In the cell below, implement the `normalize` function to take in image data, `x`, and return it as a normalized Numpy array. The values should be in the range of 0 to 1, inclusive.  The return object should be the same shape as `x`."
   ]
  },
  {
   "cell_type": "code",
   "execution_count": 3,
   "metadata": {},
   "outputs": [
    {
     "name": "stdout",
     "output_type": "stream",
     "text": [
      "Tests Passed\n"
     ]
    }
   ],
   "source": [
    "def normalize(x):\n",
    "    \"\"\"\n",
    "    Normalize a list of sample image data in the range of 0 to 1\n",
    "    : x: List of image data.  The image shape is (32, 32, 3)\n",
    "    : return: Numpy array of normalize data\n",
    "    \"\"\"\n",
    "    # TODO: Implement Function\n",
    "    return np.float32(x) / 255\n",
    "\n",
    "\n",
    "\"\"\"\n",
    "DON'T MODIFY ANYTHING IN THIS CELL THAT IS BELOW THIS LINE\n",
    "\"\"\"\n",
    "tests.test_normalize(normalize)"
   ]
  },
  {
   "cell_type": "markdown",
   "metadata": {},
   "source": [
    "### One-hot encode\n",
    "Just like the previous code cell, you'll be implementing a function for preprocessing.  This time, you'll implement the `one_hot_encode` function. The input, `x`, are a list of labels.  Implement the function to return the list of labels as One-Hot encoded Numpy array.  The possible values for labels are 0 to 9. The one-hot encoding function should return the same encoding for each value between each call to `one_hot_encode`.  Make sure to save the map of encodings outside the function.\n",
    "\n",
    "Hint: Don't reinvent the wheel."
   ]
  },
  {
   "cell_type": "code",
   "execution_count": 4,
   "metadata": {},
   "outputs": [
    {
     "name": "stdout",
     "output_type": "stream",
     "text": [
      "Tests Passed\n"
     ]
    }
   ],
   "source": [
    "def one_hot_encode(x):\n",
    "    \"\"\"\n",
    "    One hot encode a list of sample labels. Return a one-hot encoded vector for each label.\n",
    "    : x: List of sample Labels\n",
    "    : return: Numpy array of one-hot encoded labels\n",
    "    \"\"\"\n",
    "    # TODO: Implement Function\n",
    "    lenght = len(x)\n",
    "    encoded = np.zeros((lenght, 10), dtype=np.float32)\n",
    "    for i in range(lenght):\n",
    "        encoded[i][x[i]] = 1.0\n",
    "    return encoded\n",
    "\n",
    "\n",
    "\"\"\"\n",
    "DON'T MODIFY ANYTHING IN THIS CELL THAT IS BELOW THIS LINE\n",
    "\"\"\"\n",
    "tests.test_one_hot_encode(one_hot_encode)"
   ]
  },
  {
   "cell_type": "markdown",
   "metadata": {},
   "source": [
    "### Randomize Data\n",
    "As you saw from exploring the data above, the order of the samples are randomized.  It doesn't hurt to randomize it again, but you don't need to for this dataset."
   ]
  },
  {
   "cell_type": "markdown",
   "metadata": {},
   "source": [
    "## Preprocess all the data and save it\n",
    "Running the code cell below will preprocess all the CIFAR-10 data and save it to file. The code below also uses 10% of the training data for validation."
   ]
  },
  {
   "cell_type": "code",
   "execution_count": 5,
   "metadata": {},
   "outputs": [],
   "source": [
    "\"\"\"\n",
    "DON'T MODIFY ANYTHING IN THIS CELL\n",
    "\"\"\"\n",
    "# Preprocess Training, Validation, and Testing Data\n",
    "helper.preprocess_and_save_data(cifar10_dataset_folder_path, normalize, one_hot_encode)"
   ]
  },
  {
   "cell_type": "markdown",
   "metadata": {},
   "source": [
    "# Check Point\n",
    "This is your first checkpoint.  If you ever decide to come back to this notebook or have to restart the notebook, you can start from here.  The preprocessed data has been saved to disk."
   ]
  },
  {
   "cell_type": "code",
   "execution_count": 7,
   "metadata": {
    "collapsed": true
   },
   "outputs": [],
   "source": [
    "\"\"\"\n",
    "DON'T MODIFY ANYTHING IN THIS CELL\n",
    "\"\"\"\n",
    "import pickle\n",
    "import problem_unittests as tests\n",
    "import helper\n",
    "\n",
    "# Load the Preprocessed Validation data\n",
    "valid_features, valid_labels = pickle.load(open('preprocess_validation.p', mode='rb'))"
   ]
  },
  {
   "cell_type": "markdown",
   "metadata": {},
   "source": [
    "## Build the network\n",
    "For the neural network, you'll build each layer into a function.  Most of the code you've seen has been outside of functions. To test your code more thoroughly, we require that you put each layer in a function.  This allows us to give you better feedback and test for simple mistakes using our unittests before you submit your project.\n",
    "\n",
    ">**Note:** If you're finding it hard to dedicate enough time for this course each week, we've provided a small shortcut to this part of the project. In the next couple of problems, you'll have the option to use classes from the [TensorFlow Layers](https://www.tensorflow.org/api_docs/python/tf/layers) or [TensorFlow Layers (contrib)](https://www.tensorflow.org/api_guides/python/contrib.layers) packages to build each layer, except the layers you build in the \"Convolutional and Max Pooling Layer\" section.  TF Layers is similar to Keras's and TFLearn's abstraction to layers, so it's easy to pickup.\n",
    "\n",
    ">However, if you would like to get the most out of this course, try to solve all the problems _without_ using anything from the TF Layers packages. You **can** still use classes from other packages that happen to have the same name as ones you find in TF Layers! For example, instead of using the TF Layers version of the `conv2d` class, [tf.layers.conv2d](https://www.tensorflow.org/api_docs/python/tf/layers/conv2d), you would want to use the TF Neural Network version of `conv2d`, [tf.nn.conv2d](https://www.tensorflow.org/api_docs/python/tf/nn/conv2d). \n",
    "\n",
    "Let's begin!\n",
    "\n",
    "### Input\n",
    "The neural network needs to read the image data, one-hot encoded labels, and dropout keep probability. Implement the following functions\n",
    "* Implement `neural_net_image_input`\n",
    " * Return a [TF Placeholder](https://www.tensorflow.org/api_docs/python/tf/placeholder)\n",
    " * Set the shape using `image_shape` with batch size set to `None`.\n",
    " * Name the TensorFlow placeholder \"x\" using the TensorFlow `name` parameter in the [TF Placeholder](https://www.tensorflow.org/api_docs/python/tf/placeholder).\n",
    "* Implement `neural_net_label_input`\n",
    " * Return a [TF Placeholder](https://www.tensorflow.org/api_docs/python/tf/placeholder)\n",
    " * Set the shape using `n_classes` with batch size set to `None`.\n",
    " * Name the TensorFlow placeholder \"y\" using the TensorFlow `name` parameter in the [TF Placeholder](https://www.tensorflow.org/api_docs/python/tf/placeholder).\n",
    "* Implement `neural_net_keep_prob_input`\n",
    " * Return a [TF Placeholder](https://www.tensorflow.org/api_docs/python/tf/placeholder) for dropout keep probability.\n",
    " * Name the TensorFlow placeholder \"keep_prob\" using the TensorFlow `name` parameter in the [TF Placeholder](https://www.tensorflow.org/api_docs/python/tf/placeholder).\n",
    "\n",
    "These names will be used at the end of the project to load your saved model.\n",
    "\n",
    "Note: `None` for shapes in TensorFlow allow for a dynamic size."
   ]
  },
  {
   "cell_type": "code",
   "execution_count": 21,
   "metadata": {},
   "outputs": [
    {
     "name": "stdout",
     "output_type": "stream",
     "text": [
      "Image Input Tests Passed.\n",
      "Label Input Tests Passed.\n",
      "Keep Prob Tests Passed.\n"
     ]
    }
   ],
   "source": [
    "import tensorflow as tf\n",
    "\n",
    "def neural_net_image_input(image_shape):\n",
    "    \"\"\"\n",
    "    Return a Tensor for a bach of image input\n",
    "    : image_shape: Shape of the images\n",
    "    : return: Tensor for image input.\n",
    "    \"\"\"\n",
    "    # TODO: Implement Function\n",
    "    return tf.placeholder(\n",
    "        dtype=tf.float32,\n",
    "        shape=[None, *image_shape],\n",
    "        name='x')\n",
    "\n",
    "\n",
    "def neural_net_label_input(n_classes):\n",
    "    \"\"\"\n",
    "    Return a Tensor for a batch of label input\n",
    "    : n_classes: Number of classes\n",
    "    : return: Tensor for label input.\n",
    "    \"\"\"\n",
    "    # TODO: Implement Function\n",
    "    return tf.placeholder(\n",
    "        dtype=tf.float32,\n",
    "        shape=[None, n_classes],\n",
    "        name='y')\n",
    "\n",
    "\n",
    "def neural_net_keep_prob_input():\n",
    "    \"\"\"\n",
    "    Return a Tensor for keep probability\n",
    "    : return: Tensor for keep probability.\n",
    "    \"\"\"\n",
    "    # TODO: Implement Function\n",
    "    return tf.placeholder(\n",
    "        dtype=tf.float32,\n",
    "        name='keep_prob')\n",
    "\n",
    "\n",
    "\"\"\"\n",
    "DON'T MODIFY ANYTHING IN THIS CELL THAT IS BELOW THIS LINE\n",
    "\"\"\"\n",
    "tf.reset_default_graph()\n",
    "tests.test_nn_image_inputs(neural_net_image_input)\n",
    "tests.test_nn_label_inputs(neural_net_label_input)\n",
    "tests.test_nn_keep_prob_inputs(neural_net_keep_prob_input)"
   ]
  },
  {
   "cell_type": "markdown",
   "metadata": {},
   "source": [
    "### Convolution and Max Pooling Layer\n",
    "Convolution layers have a lot of success with images. For this code cell, you should implement the function `conv2d_maxpool` to apply convolution then max pooling:\n",
    "* Create the weight and bias using `conv_ksize`, `conv_num_outputs` and the shape of `x_tensor`.\n",
    "* Apply a convolution to `x_tensor` using weight and `conv_strides`.\n",
    " * We recommend you use same padding, but you're welcome to use any padding.\n",
    "* Add bias\n",
    "* Add a nonlinear activation to the convolution.\n",
    "* Apply Max Pooling using `pool_ksize` and `pool_strides`.\n",
    " * We recommend you use same padding, but you're welcome to use any padding.\n",
    "\n",
    "**Note:** You **can't** use [TensorFlow Layers](https://www.tensorflow.org/api_docs/python/tf/layers) or [TensorFlow Layers (contrib)](https://www.tensorflow.org/api_guides/python/contrib.layers) for **this** layer, but you can still use TensorFlow's [Neural Network](https://www.tensorflow.org/api_docs/python/tf/nn) package. You may still use the shortcut option for all the **other** layers."
   ]
  },
  {
   "cell_type": "code",
   "execution_count": 23,
   "metadata": {},
   "outputs": [
    {
     "name": "stdout",
     "output_type": "stream",
     "text": [
      "Tests Passed\n"
     ]
    }
   ],
   "source": [
    "def conv2d_maxpool(x_tensor, conv_num_outputs, conv_ksize, conv_strides, pool_ksize, pool_strides):\n",
    "    \"\"\"\n",
    "    Apply convolution then max pooling to x_tensor\n",
    "    :param x_tensor: TensorFlow Tensor\n",
    "    :param conv_num_outputs: Number of outputs for the convolutional layer\n",
    "    :param conv_ksize: kernal size 2-D Tuple for the convolutional layer\n",
    "    :param conv_strides: Stride 2-D Tuple for convolution\n",
    "    :param pool_ksize: kernal size 2-D Tuple for pool\n",
    "    :param pool_strides: Stride 2-D Tuple for pool\n",
    "    : return: A tensor that represents convolution and max pooling of x_tensor\n",
    "    \"\"\"\n",
    "    # TODO: Implement Function\n",
    "#     x_shape = [d.value for d in x_tensor.shape if d.value is not None]\n",
    "    channels = x_tensor.shape[3].value\n",
    "    weigths = tf.Variable(tf.truncated_normal(\n",
    "        shape=[*conv_ksize, channels, conv_num_outputs],\n",
    "        mean=0.0,\n",
    "        stddev=0.1))\n",
    "    bias = tf.Variable(tf.truncated_normal(\n",
    "        shape=[conv_num_outputs],\n",
    "        mean=0.0,\n",
    "        stddev=0.1))\n",
    "    conv = tf.nn.conv2d(\n",
    "        input=x_tensor,\n",
    "        filter=weigths,\n",
    "        strides=[1, *conv_strides, 1],\n",
    "        padding='SAME')\n",
    "    relu = tf.nn.relu(tf.nn.bias_add(conv, bias))\n",
    "    max_pool = tf.nn.max_pool(\n",
    "        value=relu,\n",
    "        ksize=[1, *pool_ksize, 1],\n",
    "        strides=[1, *pool_strides, 1],\n",
    "        padding='SAME')\n",
    "    return max_pool\n",
    "\n",
    "\n",
    "\"\"\"\n",
    "DON'T MODIFY ANYTHING IN THIS CELL THAT IS BELOW THIS LINE\n",
    "\"\"\"\n",
    "tests.test_con_pool(conv2d_maxpool)"
   ]
  },
  {
   "cell_type": "markdown",
   "metadata": {},
   "source": [
    "### Flatten Layer\n",
    "Implement the `flatten` function to change the dimension of `x_tensor` from a 4-D tensor to a 2-D tensor.  The output should be the shape (*Batch Size*, *Flattened Image Size*). Shortcut option: you can use classes from the [TensorFlow Layers](https://www.tensorflow.org/api_docs/python/tf/layers) or [TensorFlow Layers (contrib)](https://www.tensorflow.org/api_guides/python/contrib.layers) packages for this layer. For more of a challenge, only use other TensorFlow packages."
   ]
  },
  {
   "cell_type": "code",
   "execution_count": 24,
   "metadata": {},
   "outputs": [
    {
     "name": "stdout",
     "output_type": "stream",
     "text": [
      "Tests Passed\n"
     ]
    }
   ],
   "source": [
    "def flatten(x_tensor):\n",
    "    \"\"\"\n",
    "    Flatten x_tensor to (Batch Size, Flattened Image Size)\n",
    "    : x_tensor: A tensor of size (Batch Size, ...), where ... are the image dimensions.\n",
    "    : return: A tensor of size (Batch Size, Flattened Image Size).\n",
    "    \"\"\"\n",
    "    # TODO: Implement Function\n",
    "    (batch_size, width, height, depth) = x_tensor.get_shape()\n",
    "    flattened_size = width * height * depth\n",
    "    return tf.reshape(tensor=x_tensor, shape=[-1, flattened_size.value])\n",
    "\n",
    "\n",
    "\"\"\"\n",
    "DON'T MODIFY ANYTHING IN THIS CELL THAT IS BELOW THIS LINE\n",
    "\"\"\"\n",
    "tests.test_flatten(flatten)"
   ]
  },
  {
   "cell_type": "markdown",
   "metadata": {},
   "source": [
    "### Fully-Connected Layer\n",
    "Implement the `fully_conn` function to apply a fully connected layer to `x_tensor` with the shape (*Batch Size*, *num_outputs*). Shortcut option: you can use classes from the [TensorFlow Layers](https://www.tensorflow.org/api_docs/python/tf/layers) or [TensorFlow Layers (contrib)](https://www.tensorflow.org/api_guides/python/contrib.layers) packages for this layer. For more of a challenge, only use other TensorFlow packages."
   ]
  },
  {
   "cell_type": "code",
   "execution_count": 25,
   "metadata": {},
   "outputs": [
    {
     "name": "stdout",
     "output_type": "stream",
     "text": [
      "Tests Passed\n"
     ]
    }
   ],
   "source": [
    "def fully_conn(x_tensor, num_outputs):\n",
    "    \"\"\"\n",
    "    Apply a fully connected layer to x_tensor using weight and bias\n",
    "    : x_tensor: A 2-D tensor where the first dimension is batch size.\n",
    "    : num_outputs: The number of output that the new tensor should be.\n",
    "    : return: A 2-D tensor where the second dimension is num_outputs.\n",
    "    \"\"\"\n",
    "    # TODO: Implement Function\n",
    "    (batch_size, dimensions) = x_tensor.get_shape()\n",
    "    weights = tf.Variable(tf.truncated_normal(\n",
    "        shape=[dimensions.value, num_outputs],\n",
    "        mean=0.0,\n",
    "        stddev=0.1))\n",
    "    bias = tf.Variable(tf.truncated_normal(\n",
    "        shape=[num_outputs],\n",
    "        mean=0.0,\n",
    "        stddev=0.1))\n",
    "    relu = tf.nn.relu(tf.nn.bias_add(tf.matmul(x_tensor, weights), bias))\n",
    "    return relu\n",
    "\n",
    "\n",
    "\"\"\"\n",
    "DON'T MODIFY ANYTHING IN THIS CELL THAT IS BELOW THIS LINE\n",
    "\"\"\"\n",
    "tests.test_fully_conn(fully_conn)"
   ]
  },
  {
   "cell_type": "markdown",
   "metadata": {},
   "source": [
    "### Output Layer\n",
    "Implement the `output` function to apply a fully connected layer to `x_tensor` with the shape (*Batch Size*, *num_outputs*). Shortcut option: you can use classes from the [TensorFlow Layers](https://www.tensorflow.org/api_docs/python/tf/layers) or [TensorFlow Layers (contrib)](https://www.tensorflow.org/api_guides/python/contrib.layers) packages for this layer. For more of a challenge, only use other TensorFlow packages.\n",
    "\n",
    "**Note:** Activation, softmax, or cross entropy should **not** be applied to this."
   ]
  },
  {
   "cell_type": "code",
   "execution_count": 26,
   "metadata": {},
   "outputs": [
    {
     "name": "stdout",
     "output_type": "stream",
     "text": [
      "Tests Passed\n"
     ]
    }
   ],
   "source": [
    "def output(x_tensor, num_outputs):\n",
    "    \"\"\"\n",
    "    Apply a output layer to x_tensor using weight and bias\n",
    "    : x_tensor: A 2-D tensor where the first dimension is batch size.\n",
    "    : num_outputs: The number of output that the new tensor should be.\n",
    "    : return: A 2-D tensor where the second dimension is num_outputs.\n",
    "    \"\"\"\n",
    "    # TODO: Implement Function\n",
    "    (batch_size, dimensions) = x_tensor.get_shape()\n",
    "    weights = tf.Variable(tf.truncated_normal(\n",
    "        shape=[dimensions.value, num_outputs],\n",
    "        mean=0.0,\n",
    "        stddev=0.1))\n",
    "    bias = tf.Variable(tf.truncated_normal(\n",
    "        shape=[num_outputs],\n",
    "        mean=0.0,\n",
    "        stddev=0.1))\n",
    "    output = tf.nn.bias_add(tf.matmul(x_tensor, weights), bias)\n",
    "    return output\n",
    "\n",
    "\n",
    "\"\"\"\n",
    "DON'T MODIFY ANYTHING IN THIS CELL THAT IS BELOW THIS LINE\n",
    "\"\"\"\n",
    "tests.test_output(output)"
   ]
  },
  {
   "cell_type": "markdown",
   "metadata": {},
   "source": [
    "### Create Convolutional Model\n",
    "Implement the function `conv_net` to create a convolutional neural network model. The function takes in a batch of images, `x`, and outputs logits.  Use the layers you created above to create this model:\n",
    "\n",
    "* Apply 1, 2, or 3 Convolution and Max Pool layers\n",
    "* Apply a Flatten Layer\n",
    "* Apply 1, 2, or 3 Fully Connected Layers\n",
    "* Apply an Output Layer\n",
    "* Return the output\n",
    "* Apply [TensorFlow's Dropout](https://www.tensorflow.org/api_docs/python/tf/nn/dropout) to one or more layers in the model using `keep_prob`. "
   ]
  },
  {
   "cell_type": "code",
   "execution_count": 40,
   "metadata": {},
   "outputs": [
    {
     "name": "stdout",
     "output_type": "stream",
     "text": [
      "Neural Network Built!\n"
     ]
    }
   ],
   "source": [
    "def conv_net(x, keep_prob):\n",
    "    \"\"\"\n",
    "    Create a convolutional neural network model\n",
    "    : x: Placeholder tensor that holds image data.\n",
    "    : keep_prob: Placeholder tensor that hold dropout keep probability.\n",
    "    : return: Tensor that represents logits\n",
    "    \"\"\"\n",
    "    # TODO: Apply 1, 2, or 3 Convolution and Max Pool layers\n",
    "    #    Play around with different number of outputs, kernel size and stride\n",
    "    # Function Definition from Above:\n",
    "    #    conv2d_maxpool(x_tensor, conv_num_outputs, conv_ksize, conv_strides, pool_ksize, pool_strides)\n",
    "    conv_ksize = (4, 4)\n",
    "    conv_strides = (1, 1)\n",
    "    pool_ksize = (2, 2)\n",
    "    pool_strides = (2, 2)\n",
    "    \n",
    "    conv1 = conv2d_maxpool(x, 64, conv_ksize, conv_strides, pool_ksize, pool_strides)\n",
    "    conv1_dropped = tf.nn.dropout(conv1, keep_prob)\n",
    "    conv2 = conv2d_maxpool(conv1_dropped, 128, conv_ksize, conv_strides, pool_ksize, pool_strides)\n",
    "    conv2_dropped = tf.nn.dropout(conv2, keep_prob)\n",
    "\n",
    "    # TODO: Apply a Flatten Layer\n",
    "    # Function Definition from Above:\n",
    "    #   flatten(x_tensor)\n",
    "    flattened = flatten(conv2_dropped)\n",
    "\n",
    "    # TODO: Apply 1, 2, or 3 Fully Connected Layers\n",
    "    #    Play around with different number of outputs\n",
    "    # Function Definition from Above:\n",
    "    #   fully_conn(x_tensor, num_outputs)\n",
    "    conn1 = fully_conn(flattened, 128)\n",
    "\n",
    "    # TODO: Apply an Output Layer\n",
    "    #    Set this to the number of classes\n",
    "    # Function Definition from Above:\n",
    "    #   output(x_tensor, num_outputs)\n",
    "    outputed = output(conn1, 10)\n",
    "    \n",
    "    # TODO: return output\n",
    "    return outputed\n",
    "\n",
    "\n",
    "\"\"\"\n",
    "DON'T MODIFY ANYTHING IN THIS CELL THAT IS BELOW THIS LINE\n",
    "\"\"\"\n",
    "\n",
    "##############################\n",
    "## Build the Neural Network ##\n",
    "##############################\n",
    "\n",
    "# Remove previous weights, bias, inputs, etc..\n",
    "tf.reset_default_graph()\n",
    "\n",
    "# Inputs\n",
    "x = neural_net_image_input((32, 32, 3))\n",
    "y = neural_net_label_input(10)\n",
    "keep_prob = neural_net_keep_prob_input()\n",
    "\n",
    "# Model\n",
    "logits = conv_net(x, keep_prob)\n",
    "\n",
    "# Name logits Tensor, so that is can be loaded from disk after training\n",
    "logits = tf.identity(logits, name='logits')\n",
    "\n",
    "# Loss and Optimizer\n",
    "cost = tf.reduce_mean(tf.nn.softmax_cross_entropy_with_logits(logits=logits, labels=y))\n",
    "optimizer = tf.train.AdamOptimizer().minimize(cost)\n",
    "\n",
    "# Accuracy\n",
    "correct_pred = tf.equal(tf.argmax(logits, 1), tf.argmax(y, 1))\n",
    "accuracy = tf.reduce_mean(tf.cast(correct_pred, tf.float32), name='accuracy')\n",
    "\n",
    "tests.test_conv_net(conv_net)"
   ]
  },
  {
   "cell_type": "markdown",
   "metadata": {},
   "source": [
    "## Train the Neural Network\n",
    "### Single Optimization\n",
    "Implement the function `train_neural_network` to do a single optimization.  The optimization should use `optimizer` to optimize in `session` with a `feed_dict` of the following:\n",
    "* `x` for image input\n",
    "* `y` for labels\n",
    "* `keep_prob` for keep probability for dropout\n",
    "\n",
    "This function will be called for each batch, so `tf.global_variables_initializer()` has already been called.\n",
    "\n",
    "Note: Nothing needs to be returned. This function is only optimizing the neural network."
   ]
  },
  {
   "cell_type": "code",
   "execution_count": 28,
   "metadata": {},
   "outputs": [
    {
     "name": "stdout",
     "output_type": "stream",
     "text": [
      "Tests Passed\n"
     ]
    }
   ],
   "source": [
    "def train_neural_network(session, optimizer, keep_probability, feature_batch, label_batch):\n",
    "    \"\"\"\n",
    "    Optimize the session on a batch of images and labels\n",
    "    : session: Current TensorFlow session\n",
    "    : optimizer: TensorFlow optimizer function\n",
    "    : keep_probability: keep probability\n",
    "    : feature_batch: Batch of Numpy image data\n",
    "    : label_batch: Batch of Numpy label data\n",
    "    \"\"\"\n",
    "    # TODO: Implement Function\n",
    "    feed = {x: feature_batch, y: label_batch, keep_prob: keep_probability}\n",
    "    optimizer_output = session.run(optimizer, feed_dict=feed)\n",
    "\n",
    "\n",
    "\"\"\"\n",
    "DON'T MODIFY ANYTHING IN THIS CELL THAT IS BELOW THIS LINE\n",
    "\"\"\"\n",
    "tests.test_train_nn(train_neural_network)"
   ]
  },
  {
   "cell_type": "markdown",
   "metadata": {},
   "source": [
    "### Show Stats\n",
    "Implement the function `print_stats` to print loss and validation accuracy.  Use the global variables `valid_features` and `valid_labels` to calculate validation accuracy.  Use a keep probability of `1.0` to calculate the loss and validation accuracy."
   ]
  },
  {
   "cell_type": "code",
   "execution_count": 29,
   "metadata": {},
   "outputs": [],
   "source": [
    "def print_stats(session, feature_batch, label_batch, cost, accuracy):\n",
    "    \"\"\"\n",
    "    Print information about loss and validation accuracy\n",
    "    : session: Current TensorFlow session\n",
    "    : feature_batch: Batch of Numpy image data\n",
    "    : label_batch: Batch of Numpy label data\n",
    "    : cost: TensorFlow cost function\n",
    "    : accuracy: TensorFlow accuracy function\n",
    "    \"\"\"\n",
    "    # TODO: Implement Function\n",
    "    feed = {x: feature_batch, y: label_batch, keep_prob: keep_probability}\n",
    "    cost_output = session.run(cost, feed_dict=feed)\n",
    "    accuracy_output = session.run(accuracy, feed_dict=feed)\n",
    "    print('Cost: {} \\t Accuracy: {}'.format(cost_output, accuracy_output))"
   ]
  },
  {
   "cell_type": "markdown",
   "metadata": {},
   "source": [
    "### Hyperparameters\n",
    "Tune the following parameters:\n",
    "* Set `epochs` to the number of iterations until the network stops learning or start overfitting\n",
    "* Set `batch_size` to the highest number that your machine has memory for.  Most people set them to common sizes of memory:\n",
    " * 64\n",
    " * 128\n",
    " * 256\n",
    " * ...\n",
    "* Set `keep_probability` to the probability of keeping a node using dropout"
   ]
  },
  {
   "cell_type": "code",
   "execution_count": 42,
   "metadata": {
    "collapsed": true
   },
   "outputs": [],
   "source": [
    "# TODO: Tune Parameters\n",
    "epochs = 40\n",
    "batch_size = 128\n",
    "keep_probability = 0.5"
   ]
  },
  {
   "cell_type": "markdown",
   "metadata": {},
   "source": [
    "### Train on a Single CIFAR-10 Batch\n",
    "Instead of training the neural network on all the CIFAR-10 batches of data, let's use a single batch. This should save time while you iterate on the model to get a better accuracy.  Once the final validation accuracy is 50% or greater, run the model on all the data in the next section."
   ]
  },
  {
   "cell_type": "code",
   "execution_count": 43,
   "metadata": {},
   "outputs": [
    {
     "name": "stdout",
     "output_type": "stream",
     "text": [
      "Checking the Training on a Single Batch...\n",
      "Epoch  1, CIFAR-10 Batch 1:  Cost: 2.228459596633911 \t Accuracy: 0.125\n",
      "Epoch  2, CIFAR-10 Batch 1:  Cost: 2.084538459777832 \t Accuracy: 0.25\n",
      "Epoch  3, CIFAR-10 Batch 1:  Cost: 1.9878666400909424 \t Accuracy: 0.375\n",
      "Epoch  4, CIFAR-10 Batch 1:  Cost: 1.8937503099441528 \t Accuracy: 0.22500000894069672\n",
      "Epoch  5, CIFAR-10 Batch 1:  Cost: 1.829590082168579 \t Accuracy: 0.4000000059604645\n",
      "Epoch  6, CIFAR-10 Batch 1:  Cost: 1.8732582330703735 \t Accuracy: 0.32500001788139343\n",
      "Epoch  7, CIFAR-10 Batch 1:  Cost: 1.6164661645889282 \t Accuracy: 0.42500001192092896\n",
      "Epoch  8, CIFAR-10 Batch 1:  Cost: 1.6877877712249756 \t Accuracy: 0.44999998807907104\n",
      "Epoch  9, CIFAR-10 Batch 1:  Cost: 1.4309800863265991 \t Accuracy: 0.3999999761581421\n",
      "Epoch 10, CIFAR-10 Batch 1:  Cost: 1.4779291152954102 \t Accuracy: 0.6000000238418579\n",
      "Epoch 11, CIFAR-10 Batch 1:  Cost: 1.360166311264038 \t Accuracy: 0.5\n",
      "Epoch 12, CIFAR-10 Batch 1:  Cost: 1.228705883026123 \t Accuracy: 0.6000000238418579\n",
      "Epoch 13, CIFAR-10 Batch 1:  Cost: 1.1160883903503418 \t Accuracy: 0.6000000238418579\n",
      "Epoch 14, CIFAR-10 Batch 1:  Cost: 1.0671926736831665 \t Accuracy: 0.625\n",
      "Epoch 15, CIFAR-10 Batch 1:  Cost: 1.0616092681884766 \t Accuracy: 0.7000000476837158\n",
      "Epoch 16, CIFAR-10 Batch 1:  Cost: 1.0110270977020264 \t Accuracy: 0.6750000715255737\n",
      "Epoch 17, CIFAR-10 Batch 1:  Cost: 1.0766561031341553 \t Accuracy: 0.6000000238418579\n",
      "Epoch 18, CIFAR-10 Batch 1:  Cost: 0.9243515133857727 \t Accuracy: 0.625\n",
      "Epoch 19, CIFAR-10 Batch 1:  Cost: 0.805164635181427 \t Accuracy: 0.7250000238418579\n",
      "Epoch 20, CIFAR-10 Batch 1:  Cost: 0.7721729278564453 \t Accuracy: 0.7250000238418579\n",
      "Epoch 21, CIFAR-10 Batch 1:  Cost: 0.8031052350997925 \t Accuracy: 0.75\n",
      "Epoch 22, CIFAR-10 Batch 1:  Cost: 0.5404670238494873 \t Accuracy: 0.7749999761581421\n",
      "Epoch 23, CIFAR-10 Batch 1:  Cost: 0.6288415193557739 \t Accuracy: 0.7749999761581421\n",
      "Epoch 24, CIFAR-10 Batch 1:  Cost: 0.48121052980422974 \t Accuracy: 0.8750000596046448\n",
      "Epoch 25, CIFAR-10 Batch 1:  Cost: 0.49210256338119507 \t Accuracy: 0.824999988079071\n",
      "Epoch 26, CIFAR-10 Batch 1:  Cost: 0.543821394443512 \t Accuracy: 0.824999988079071\n",
      "Epoch 27, CIFAR-10 Batch 1:  Cost: 0.39310774207115173 \t Accuracy: 0.800000011920929\n",
      "Epoch 28, CIFAR-10 Batch 1:  Cost: 0.47819697856903076 \t Accuracy: 0.8750000596046448\n",
      "Epoch 29, CIFAR-10 Batch 1:  Cost: 0.4994767904281616 \t Accuracy: 0.8250000476837158\n",
      "Epoch 30, CIFAR-10 Batch 1:  Cost: 0.40931472182273865 \t Accuracy: 0.949999988079071\n",
      "Epoch 31, CIFAR-10 Batch 1:  Cost: 0.3111587464809418 \t Accuracy: 0.949999988079071\n",
      "Epoch 32, CIFAR-10 Batch 1:  Cost: 0.2538689076900482 \t Accuracy: 0.9000000357627869\n",
      "Epoch 33, CIFAR-10 Batch 1:  Cost: 0.2385372370481491 \t Accuracy: 0.9000000357627869\n",
      "Epoch 34, CIFAR-10 Batch 1:  Cost: 0.19661732017993927 \t Accuracy: 0.949999988079071\n",
      "Epoch 35, CIFAR-10 Batch 1:  Cost: 0.20740196108818054 \t Accuracy: 1.0\n",
      "Epoch 36, CIFAR-10 Batch 1:  Cost: 0.12380237132310867 \t Accuracy: 0.9749999642372131\n",
      "Epoch 37, CIFAR-10 Batch 1:  Cost: 0.18264847993850708 \t Accuracy: 0.949999988079071\n",
      "Epoch 38, CIFAR-10 Batch 1:  Cost: 0.15027552843093872 \t Accuracy: 0.949999988079071\n",
      "Epoch 39, CIFAR-10 Batch 1:  Cost: 0.12984859943389893 \t Accuracy: 0.9750000238418579\n",
      "Epoch 40, CIFAR-10 Batch 1:  Cost: 0.2287999391555786 \t Accuracy: 1.0\n"
     ]
    }
   ],
   "source": [
    "\"\"\"\n",
    "DON'T MODIFY ANYTHING IN THIS CELL\n",
    "\"\"\"\n",
    "print('Checking the Training on a Single Batch...')\n",
    "with tf.Session() as sess:\n",
    "    # Initializing the variables\n",
    "    sess.run(tf.global_variables_initializer())\n",
    "    \n",
    "    # Training cycle\n",
    "    for epoch in range(epochs):\n",
    "        batch_i = 1\n",
    "        for batch_features, batch_labels in helper.load_preprocess_training_batch(batch_i, batch_size):\n",
    "            train_neural_network(sess, optimizer, keep_probability, batch_features, batch_labels)\n",
    "        print('Epoch {:>2}, CIFAR-10 Batch {}:  '.format(epoch + 1, batch_i), end='')\n",
    "        print_stats(sess, batch_features, batch_labels, cost, accuracy)"
   ]
  },
  {
   "cell_type": "markdown",
   "metadata": {},
   "source": [
    "### Fully Train the Model\n",
    "Now that you got a good accuracy with a single CIFAR-10 batch, try it with all five batches."
   ]
  },
  {
   "cell_type": "code",
   "execution_count": 44,
   "metadata": {},
   "outputs": [
    {
     "name": "stdout",
     "output_type": "stream",
     "text": [
      "Training...\n",
      "Epoch  1, CIFAR-10 Batch 1:  Cost: 2.2840938568115234 \t Accuracy: 0.10000000149011612\n",
      "Epoch  1, CIFAR-10 Batch 2:  Cost: 2.115835666656494 \t Accuracy: 0.22500000894069672\n",
      "Epoch  1, CIFAR-10 Batch 3:  Cost: 1.810433268547058 \t Accuracy: 0.375\n",
      "Epoch  1, CIFAR-10 Batch 4:  Cost: 1.7100794315338135 \t Accuracy: 0.30000001192092896\n",
      "Epoch  1, CIFAR-10 Batch 5:  Cost: 1.7124296426773071 \t Accuracy: 0.375\n",
      "Epoch  2, CIFAR-10 Batch 1:  Cost: 1.9140315055847168 \t Accuracy: 0.4749999940395355\n",
      "Epoch  2, CIFAR-10 Batch 2:  Cost: 1.5965629816055298 \t Accuracy: 0.574999988079071\n",
      "Epoch  2, CIFAR-10 Batch 3:  Cost: 1.2018011808395386 \t Accuracy: 0.5000000596046448\n",
      "Epoch  2, CIFAR-10 Batch 4:  Cost: 1.4559391736984253 \t Accuracy: 0.5250000357627869\n",
      "Epoch  2, CIFAR-10 Batch 5:  Cost: 1.4512969255447388 \t Accuracy: 0.3999999761581421\n",
      "Epoch  3, CIFAR-10 Batch 1:  Cost: 1.630305528640747 \t Accuracy: 0.42499998211860657\n",
      "Epoch  3, CIFAR-10 Batch 2:  Cost: 1.3558292388916016 \t Accuracy: 0.5250000357627869\n",
      "Epoch  3, CIFAR-10 Batch 3:  Cost: 1.1722880601882935 \t Accuracy: 0.6749999523162842\n",
      "Epoch  3, CIFAR-10 Batch 4:  Cost: 1.2803304195404053 \t Accuracy: 0.5250000357627869\n",
      "Epoch  3, CIFAR-10 Batch 5:  Cost: 1.2030795812606812 \t Accuracy: 0.574999988079071\n",
      "Epoch  4, CIFAR-10 Batch 1:  Cost: 1.5232975482940674 \t Accuracy: 0.550000011920929\n",
      "Epoch  4, CIFAR-10 Batch 2:  Cost: 1.2244422435760498 \t Accuracy: 0.6000000238418579\n",
      "Epoch  4, CIFAR-10 Batch 3:  Cost: 1.0553855895996094 \t Accuracy: 0.625\n",
      "Epoch  4, CIFAR-10 Batch 4:  Cost: 1.124206781387329 \t Accuracy: 0.625\n",
      "Epoch  4, CIFAR-10 Batch 5:  Cost: 1.231837511062622 \t Accuracy: 0.550000011920929\n",
      "Epoch  5, CIFAR-10 Batch 1:  Cost: 1.2989825010299683 \t Accuracy: 0.5249999761581421\n",
      "Epoch  5, CIFAR-10 Batch 2:  Cost: 1.1401760578155518 \t Accuracy: 0.5750000476837158\n",
      "Epoch  5, CIFAR-10 Batch 3:  Cost: 0.8698976635932922 \t Accuracy: 0.7000000476837158\n",
      "Epoch  5, CIFAR-10 Batch 4:  Cost: 1.1284741163253784 \t Accuracy: 0.625\n",
      "Epoch  5, CIFAR-10 Batch 5:  Cost: 1.1027772426605225 \t Accuracy: 0.6499999761581421\n",
      "Epoch  6, CIFAR-10 Batch 1:  Cost: 1.1664164066314697 \t Accuracy: 0.625\n",
      "Epoch  6, CIFAR-10 Batch 2:  Cost: 1.1399757862091064 \t Accuracy: 0.625\n",
      "Epoch  6, CIFAR-10 Batch 3:  Cost: 0.861743688583374 \t Accuracy: 0.6499999761581421\n",
      "Epoch  6, CIFAR-10 Batch 4:  Cost: 0.8663429021835327 \t Accuracy: 0.6500000357627869\n",
      "Epoch  6, CIFAR-10 Batch 5:  Cost: 0.9155524969100952 \t Accuracy: 0.6250000596046448\n",
      "Epoch  7, CIFAR-10 Batch 1:  Cost: 1.1626918315887451 \t Accuracy: 0.625\n",
      "Epoch  7, CIFAR-10 Batch 2:  Cost: 0.9706045389175415 \t Accuracy: 0.625\n",
      "Epoch  7, CIFAR-10 Batch 3:  Cost: 0.748598575592041 \t Accuracy: 0.625\n",
      "Epoch  7, CIFAR-10 Batch 4:  Cost: 0.9100843071937561 \t Accuracy: 0.7000000476837158\n",
      "Epoch  7, CIFAR-10 Batch 5:  Cost: 0.8269002437591553 \t Accuracy: 0.6499999761581421\n",
      "Epoch  8, CIFAR-10 Batch 1:  Cost: 1.149531602859497 \t Accuracy: 0.6749999523162842\n",
      "Epoch  8, CIFAR-10 Batch 2:  Cost: 0.8608543872833252 \t Accuracy: 0.7000000476837158\n",
      "Epoch  8, CIFAR-10 Batch 3:  Cost: 0.6861094236373901 \t Accuracy: 0.800000011920929\n",
      "Epoch  8, CIFAR-10 Batch 4:  Cost: 0.8651071786880493 \t Accuracy: 0.625\n",
      "Epoch  8, CIFAR-10 Batch 5:  Cost: 0.8123694658279419 \t Accuracy: 0.75\n",
      "Epoch  9, CIFAR-10 Batch 1:  Cost: 1.149401307106018 \t Accuracy: 0.6499999761581421\n",
      "Epoch  9, CIFAR-10 Batch 2:  Cost: 0.9222701787948608 \t Accuracy: 0.625\n",
      "Epoch  9, CIFAR-10 Batch 3:  Cost: 0.6504712700843811 \t Accuracy: 0.7750000357627869\n",
      "Epoch  9, CIFAR-10 Batch 4:  Cost: 0.8786301612854004 \t Accuracy: 0.675000011920929\n",
      "Epoch  9, CIFAR-10 Batch 5:  Cost: 0.8498847484588623 \t Accuracy: 0.675000011920929\n",
      "Epoch 10, CIFAR-10 Batch 1:  Cost: 0.922863245010376 \t Accuracy: 0.75\n",
      "Epoch 10, CIFAR-10 Batch 2:  Cost: 0.8476946949958801 \t Accuracy: 0.625\n",
      "Epoch 10, CIFAR-10 Batch 3:  Cost: 0.5921518802642822 \t Accuracy: 0.75\n",
      "Epoch 10, CIFAR-10 Batch 4:  Cost: 0.7046689987182617 \t Accuracy: 0.675000011920929\n",
      "Epoch 10, CIFAR-10 Batch 5:  Cost: 0.7264130115509033 \t Accuracy: 0.7250000238418579\n",
      "Epoch 11, CIFAR-10 Batch 1:  Cost: 0.7999407649040222 \t Accuracy: 0.7000000476837158\n",
      "Epoch 11, CIFAR-10 Batch 2:  Cost: 0.7692275047302246 \t Accuracy: 0.7750000357627869\n",
      "Epoch 11, CIFAR-10 Batch 3:  Cost: 0.45113956928253174 \t Accuracy: 0.8250000476837158\n",
      "Epoch 11, CIFAR-10 Batch 4:  Cost: 0.7996195554733276 \t Accuracy: 0.7250000238418579\n",
      "Epoch 11, CIFAR-10 Batch 5:  Cost: 0.6663926839828491 \t Accuracy: 0.8750000596046448\n",
      "Epoch 12, CIFAR-10 Batch 1:  Cost: 0.7624262571334839 \t Accuracy: 0.7749999761581421\n",
      "Epoch 12, CIFAR-10 Batch 2:  Cost: 0.6957149505615234 \t Accuracy: 0.75\n",
      "Epoch 12, CIFAR-10 Batch 3:  Cost: 0.37626975774765015 \t Accuracy: 0.8000000715255737\n",
      "Epoch 12, CIFAR-10 Batch 4:  Cost: 0.6128268241882324 \t Accuracy: 0.8250000476837158\n",
      "Epoch 12, CIFAR-10 Batch 5:  Cost: 0.5694968104362488 \t Accuracy: 0.75\n",
      "Epoch 13, CIFAR-10 Batch 1:  Cost: 0.6860219836235046 \t Accuracy: 0.7999999523162842\n",
      "Epoch 13, CIFAR-10 Batch 2:  Cost: 0.6757404804229736 \t Accuracy: 0.75\n",
      "Epoch 13, CIFAR-10 Batch 3:  Cost: 0.41393372416496277 \t Accuracy: 0.8500000834465027\n",
      "Epoch 13, CIFAR-10 Batch 4:  Cost: 0.6662230491638184 \t Accuracy: 0.6750000715255737\n",
      "Epoch 13, CIFAR-10 Batch 5:  Cost: 0.5094294548034668 \t Accuracy: 0.8250000476837158\n",
      "Epoch 14, CIFAR-10 Batch 1:  Cost: 0.8156420588493347 \t Accuracy: 0.75\n",
      "Epoch 14, CIFAR-10 Batch 2:  Cost: 0.6388117074966431 \t Accuracy: 0.7250000238418579\n",
      "Epoch 14, CIFAR-10 Batch 3:  Cost: 0.3499031364917755 \t Accuracy: 0.9000000357627869\n",
      "Epoch 14, CIFAR-10 Batch 4:  Cost: 0.46937674283981323 \t Accuracy: 0.7749999761581421\n",
      "Epoch 14, CIFAR-10 Batch 5:  Cost: 0.5617471933364868 \t Accuracy: 0.8000000715255737\n",
      "Epoch 15, CIFAR-10 Batch 1:  Cost: 0.5824386477470398 \t Accuracy: 0.75\n",
      "Epoch 15, CIFAR-10 Batch 2:  Cost: 0.7100178003311157 \t Accuracy: 0.8000000715255737\n",
      "Epoch 15, CIFAR-10 Batch 3:  Cost: 0.4028588533401489 \t Accuracy: 0.875\n",
      "Epoch 15, CIFAR-10 Batch 4:  Cost: 0.3814188241958618 \t Accuracy: 0.800000011920929\n",
      "Epoch 15, CIFAR-10 Batch 5:  Cost: 0.38248294591903687 \t Accuracy: 0.8999999761581421\n",
      "Epoch 16, CIFAR-10 Batch 1:  Cost: 0.5462276935577393 \t Accuracy: 0.7500000596046448\n",
      "Epoch 16, CIFAR-10 Batch 2:  Cost: 0.4839155077934265 \t Accuracy: 0.8000000715255737\n",
      "Epoch 16, CIFAR-10 Batch 3:  Cost: 0.3274194300174713 \t Accuracy: 0.8999999761581421\n",
      "Epoch 16, CIFAR-10 Batch 4:  Cost: 0.434743732213974 \t Accuracy: 0.75\n",
      "Epoch 16, CIFAR-10 Batch 5:  Cost: 0.4991281032562256 \t Accuracy: 0.7749999761581421\n",
      "Epoch 17, CIFAR-10 Batch 1:  Cost: 0.5297020077705383 \t Accuracy: 0.9000000357627869\n",
      "Epoch 17, CIFAR-10 Batch 2:  Cost: 0.3962656557559967 \t Accuracy: 0.8000000715255737\n",
      "Epoch 17, CIFAR-10 Batch 3:  Cost: 0.39040660858154297 \t Accuracy: 0.875\n",
      "Epoch 17, CIFAR-10 Batch 4:  Cost: 0.3863508403301239 \t Accuracy: 0.8500000238418579\n",
      "Epoch 17, CIFAR-10 Batch 5:  Cost: 0.4308667778968811 \t Accuracy: 0.8500000834465027\n",
      "Epoch 18, CIFAR-10 Batch 1:  Cost: 0.49152714014053345 \t Accuracy: 0.875\n",
      "Epoch 18, CIFAR-10 Batch 2:  Cost: 0.4599069356918335 \t Accuracy: 0.7750000357627869\n",
      "Epoch 18, CIFAR-10 Batch 3:  Cost: 0.22816909849643707 \t Accuracy: 0.8750000596046448\n",
      "Epoch 18, CIFAR-10 Batch 4:  Cost: 0.32862576842308044 \t Accuracy: 0.7999999523162842\n",
      "Epoch 18, CIFAR-10 Batch 5:  Cost: 0.3493599593639374 \t Accuracy: 0.7750000357627869\n",
      "Epoch 19, CIFAR-10 Batch 1:  Cost: 0.37152814865112305 \t Accuracy: 0.8500000238418579\n",
      "Epoch 19, CIFAR-10 Batch 2:  Cost: 0.4182920455932617 \t Accuracy: 0.8250000476837158\n",
      "Epoch 19, CIFAR-10 Batch 3:  Cost: 0.26422595977783203 \t Accuracy: 0.9749999642372131\n",
      "Epoch 19, CIFAR-10 Batch 4:  Cost: 0.3760964274406433 \t Accuracy: 0.925000011920929\n",
      "Epoch 19, CIFAR-10 Batch 5:  Cost: 0.4506857991218567 \t Accuracy: 0.8250000476837158\n",
      "Epoch 20, CIFAR-10 Batch 1:  Cost: 0.3958936333656311 \t Accuracy: 0.824999988079071\n",
      "Epoch 20, CIFAR-10 Batch 2:  Cost: 0.4201919138431549 \t Accuracy: 0.9000000357627869\n",
      "Epoch 20, CIFAR-10 Batch 3:  Cost: 0.25885212421417236 \t Accuracy: 0.875\n",
      "Epoch 20, CIFAR-10 Batch 4:  Cost: 0.30161070823669434 \t Accuracy: 0.8500000238418579\n",
      "Epoch 20, CIFAR-10 Batch 5:  Cost: 0.4073479175567627 \t Accuracy: 0.9000000357627869\n",
      "Epoch 21, CIFAR-10 Batch 1:  Cost: 0.30696308612823486 \t Accuracy: 0.8500000834465027\n"
     ]
    },
    {
     "name": "stdout",
     "output_type": "stream",
     "text": [
      "Epoch 21, CIFAR-10 Batch 2:  Cost: 0.36046555638313293 \t Accuracy: 0.800000011920929\n",
      "Epoch 21, CIFAR-10 Batch 3:  Cost: 0.2166524976491928 \t Accuracy: 0.824999988079071\n",
      "Epoch 21, CIFAR-10 Batch 4:  Cost: 0.32992419600486755 \t Accuracy: 0.875\n",
      "Epoch 21, CIFAR-10 Batch 5:  Cost: 0.26395708322525024 \t Accuracy: 0.875\n",
      "Epoch 22, CIFAR-10 Batch 1:  Cost: 0.3340854346752167 \t Accuracy: 0.875\n",
      "Epoch 22, CIFAR-10 Batch 2:  Cost: 0.42327725887298584 \t Accuracy: 0.8750000596046448\n",
      "Epoch 22, CIFAR-10 Batch 3:  Cost: 0.17839351296424866 \t Accuracy: 1.0\n",
      "Epoch 22, CIFAR-10 Batch 4:  Cost: 0.27182185649871826 \t Accuracy: 0.925000011920929\n",
      "Epoch 22, CIFAR-10 Batch 5:  Cost: 0.34527695178985596 \t Accuracy: 0.8750000596046448\n",
      "Epoch 23, CIFAR-10 Batch 1:  Cost: 0.2684727907180786 \t Accuracy: 0.8750000596046448\n",
      "Epoch 23, CIFAR-10 Batch 2:  Cost: 0.36354508996009827 \t Accuracy: 0.925000011920929\n",
      "Epoch 23, CIFAR-10 Batch 3:  Cost: 0.2087109386920929 \t Accuracy: 0.9749999642372131\n",
      "Epoch 23, CIFAR-10 Batch 4:  Cost: 0.20983746647834778 \t Accuracy: 0.8250000476837158\n",
      "Epoch 23, CIFAR-10 Batch 5:  Cost: 0.381069540977478 \t Accuracy: 0.9000000357627869\n",
      "Epoch 24, CIFAR-10 Batch 1:  Cost: 0.1856008768081665 \t Accuracy: 0.925000011920929\n",
      "Epoch 24, CIFAR-10 Batch 2:  Cost: 0.33535853028297424 \t Accuracy: 0.9000000357627869\n",
      "Epoch 24, CIFAR-10 Batch 3:  Cost: 0.20456086099147797 \t Accuracy: 0.925000011920929\n",
      "Epoch 24, CIFAR-10 Batch 4:  Cost: 0.10357560217380524 \t Accuracy: 0.8999999761581421\n",
      "Epoch 24, CIFAR-10 Batch 5:  Cost: 0.31470924615859985 \t Accuracy: 0.949999988079071\n",
      "Epoch 25, CIFAR-10 Batch 1:  Cost: 0.24139562249183655 \t Accuracy: 0.925000011920929\n",
      "Epoch 25, CIFAR-10 Batch 2:  Cost: 0.30347567796707153 \t Accuracy: 0.949999988079071\n",
      "Epoch 25, CIFAR-10 Batch 3:  Cost: 0.12010146677494049 \t Accuracy: 0.9749999642372131\n",
      "Epoch 25, CIFAR-10 Batch 4:  Cost: 0.24494844675064087 \t Accuracy: 0.9000000357627869\n",
      "Epoch 25, CIFAR-10 Batch 5:  Cost: 0.16009798645973206 \t Accuracy: 0.949999988079071\n",
      "Epoch 26, CIFAR-10 Batch 1:  Cost: 0.22599337995052338 \t Accuracy: 0.8500000834465027\n",
      "Epoch 26, CIFAR-10 Batch 2:  Cost: 0.2275606095790863 \t Accuracy: 0.800000011920929\n",
      "Epoch 26, CIFAR-10 Batch 3:  Cost: 0.17662081122398376 \t Accuracy: 0.949999988079071\n",
      "Epoch 26, CIFAR-10 Batch 4:  Cost: 0.23674717545509338 \t Accuracy: 0.9500000476837158\n",
      "Epoch 26, CIFAR-10 Batch 5:  Cost: 0.3245989978313446 \t Accuracy: 0.9749999642372131\n",
      "Epoch 27, CIFAR-10 Batch 1:  Cost: 0.23314708471298218 \t Accuracy: 0.949999988079071\n",
      "Epoch 27, CIFAR-10 Batch 2:  Cost: 0.21655195951461792 \t Accuracy: 0.925000011920929\n",
      "Epoch 27, CIFAR-10 Batch 3:  Cost: 0.25852805376052856 \t Accuracy: 0.9749999642372131\n",
      "Epoch 27, CIFAR-10 Batch 4:  Cost: 0.15877799689769745 \t Accuracy: 0.9749999642372131\n",
      "Epoch 27, CIFAR-10 Batch 5:  Cost: 0.20440241694450378 \t Accuracy: 0.9249999523162842\n",
      "Epoch 28, CIFAR-10 Batch 1:  Cost: 0.192712664604187 \t Accuracy: 0.949999988079071\n",
      "Epoch 28, CIFAR-10 Batch 2:  Cost: 0.16406360268592834 \t Accuracy: 0.925000011920929\n",
      "Epoch 28, CIFAR-10 Batch 3:  Cost: 0.1751653403043747 \t Accuracy: 1.0\n",
      "Epoch 28, CIFAR-10 Batch 4:  Cost: 0.1632983684539795 \t Accuracy: 0.9500000476837158\n",
      "Epoch 28, CIFAR-10 Batch 5:  Cost: 0.28355127573013306 \t Accuracy: 0.925000011920929\n",
      "Epoch 29, CIFAR-10 Batch 1:  Cost: 0.17101015150547028 \t Accuracy: 0.9749999642372131\n",
      "Epoch 29, CIFAR-10 Batch 2:  Cost: 0.21662479639053345 \t Accuracy: 1.0\n",
      "Epoch 29, CIFAR-10 Batch 3:  Cost: 0.21754316985607147 \t Accuracy: 0.9749999642372131\n",
      "Epoch 29, CIFAR-10 Batch 4:  Cost: 0.13291051983833313 \t Accuracy: 0.9749999642372131\n",
      "Epoch 29, CIFAR-10 Batch 5:  Cost: 0.1935998946428299 \t Accuracy: 0.8999999761581421\n",
      "Epoch 30, CIFAR-10 Batch 1:  Cost: 0.11786011606454849 \t Accuracy: 0.925000011920929\n",
      "Epoch 30, CIFAR-10 Batch 2:  Cost: 0.27242812514305115 \t Accuracy: 0.9000000357627869\n",
      "Epoch 30, CIFAR-10 Batch 3:  Cost: 0.12512481212615967 \t Accuracy: 0.949999988079071\n",
      "Epoch 30, CIFAR-10 Batch 4:  Cost: 0.21503183245658875 \t Accuracy: 0.9000000357627869\n",
      "Epoch 30, CIFAR-10 Batch 5:  Cost: 0.20672570168972015 \t Accuracy: 0.925000011920929\n",
      "Epoch 31, CIFAR-10 Batch 1:  Cost: 0.14755313098430634 \t Accuracy: 0.949999988079071\n",
      "Epoch 31, CIFAR-10 Batch 2:  Cost: 0.18947924673557281 \t Accuracy: 0.949999988079071\n",
      "Epoch 31, CIFAR-10 Batch 3:  Cost: 0.23693406581878662 \t Accuracy: 1.0\n",
      "Epoch 31, CIFAR-10 Batch 4:  Cost: 0.16613131761550903 \t Accuracy: 0.949999988079071\n",
      "Epoch 31, CIFAR-10 Batch 5:  Cost: 0.16520875692367554 \t Accuracy: 1.0\n",
      "Epoch 32, CIFAR-10 Batch 1:  Cost: 0.13298942148685455 \t Accuracy: 0.9749999642372131\n",
      "Epoch 32, CIFAR-10 Batch 2:  Cost: 0.13044221699237823 \t Accuracy: 0.925000011920929\n",
      "Epoch 32, CIFAR-10 Batch 3:  Cost: 0.10923081636428833 \t Accuracy: 0.949999988079071\n",
      "Epoch 32, CIFAR-10 Batch 4:  Cost: 0.11344368755817413 \t Accuracy: 0.9749999642372131\n",
      "Epoch 32, CIFAR-10 Batch 5:  Cost: 0.12989680469036102 \t Accuracy: 0.949999988079071\n",
      "Epoch 33, CIFAR-10 Batch 1:  Cost: 0.11902104318141937 \t Accuracy: 0.925000011920929\n",
      "Epoch 33, CIFAR-10 Batch 2:  Cost: 0.16688546538352966 \t Accuracy: 0.949999988079071\n",
      "Epoch 33, CIFAR-10 Batch 3:  Cost: 0.21658864617347717 \t Accuracy: 0.949999988079071\n",
      "Epoch 33, CIFAR-10 Batch 4:  Cost: 0.18070600926876068 \t Accuracy: 0.9749999642372131\n",
      "Epoch 33, CIFAR-10 Batch 5:  Cost: 0.1493281126022339 \t Accuracy: 0.9749999642372131\n",
      "Epoch 34, CIFAR-10 Batch 1:  Cost: 0.11220807582139969 \t Accuracy: 0.949999988079071\n",
      "Epoch 34, CIFAR-10 Batch 2:  Cost: 0.20129185914993286 \t Accuracy: 0.9749999642372131\n",
      "Epoch 34, CIFAR-10 Batch 3:  Cost: 0.13324040174484253 \t Accuracy: 0.949999988079071\n",
      "Epoch 34, CIFAR-10 Batch 4:  Cost: 0.10197746008634567 \t Accuracy: 1.0\n",
      "Epoch 34, CIFAR-10 Batch 5:  Cost: 0.1072857603430748 \t Accuracy: 0.949999988079071\n",
      "Epoch 35, CIFAR-10 Batch 1:  Cost: 0.39966434240341187 \t Accuracy: 0.8500000238418579\n",
      "Epoch 35, CIFAR-10 Batch 2:  Cost: 0.24063760042190552 \t Accuracy: 0.9000000357627869\n",
      "Epoch 35, CIFAR-10 Batch 3:  Cost: 0.1602807641029358 \t Accuracy: 0.9749999642372131\n",
      "Epoch 35, CIFAR-10 Batch 4:  Cost: 0.07615987211465836 \t Accuracy: 0.9750000238418579\n",
      "Epoch 35, CIFAR-10 Batch 5:  Cost: 0.06373128294944763 \t Accuracy: 0.9749999642372131\n",
      "Epoch 36, CIFAR-10 Batch 1:  Cost: 0.1082940399646759 \t Accuracy: 1.0\n",
      "Epoch 36, CIFAR-10 Batch 2:  Cost: 0.19350147247314453 \t Accuracy: 0.949999988079071\n",
      "Epoch 36, CIFAR-10 Batch 3:  Cost: 0.08662085235118866 \t Accuracy: 0.9749999642372131\n",
      "Epoch 36, CIFAR-10 Batch 4:  Cost: 0.0863562822341919 \t Accuracy: 0.9749999642372131\n",
      "Epoch 36, CIFAR-10 Batch 5:  Cost: 0.13899549841880798 \t Accuracy: 0.949999988079071\n",
      "Epoch 37, CIFAR-10 Batch 1:  Cost: 0.12688812613487244 \t Accuracy: 0.925000011920929\n",
      "Epoch 37, CIFAR-10 Batch 2:  Cost: 0.2243490219116211 \t Accuracy: 0.925000011920929\n",
      "Epoch 37, CIFAR-10 Batch 3:  Cost: 0.07193838059902191 \t Accuracy: 0.949999988079071\n",
      "Epoch 37, CIFAR-10 Batch 4:  Cost: 0.19988477230072021 \t Accuracy: 0.8999999761581421\n",
      "Epoch 37, CIFAR-10 Batch 5:  Cost: 0.05919170379638672 \t Accuracy: 0.9750000238418579\n",
      "Epoch 38, CIFAR-10 Batch 1:  Cost: 0.2129327654838562 \t Accuracy: 0.9749999642372131\n",
      "Epoch 38, CIFAR-10 Batch 2:  Cost: 0.20826399326324463 \t Accuracy: 0.9749999642372131\n",
      "Epoch 38, CIFAR-10 Batch 3:  Cost: 0.14973516762256622 \t Accuracy: 1.0\n",
      "Epoch 38, CIFAR-10 Batch 4:  Cost: 0.13937067985534668 \t Accuracy: 0.925000011920929\n",
      "Epoch 38, CIFAR-10 Batch 5:  Cost: 0.0690263882279396 \t Accuracy: 0.9749999642372131\n",
      "Epoch 39, CIFAR-10 Batch 1:  Cost: 0.11647897213697433 \t Accuracy: 0.925000011920929\n",
      "Epoch 39, CIFAR-10 Batch 2:  Cost: 0.16484075784683228 \t Accuracy: 0.9000000357627869\n",
      "Epoch 39, CIFAR-10 Batch 3:  Cost: 0.12585803866386414 \t Accuracy: 1.0\n",
      "Epoch 39, CIFAR-10 Batch 4:  Cost: 0.06669563800096512 \t Accuracy: 0.949999988079071\n",
      "Epoch 39, CIFAR-10 Batch 5:  Cost: 0.08189041167497635 \t Accuracy: 0.925000011920929\n",
      "Epoch 40, CIFAR-10 Batch 1:  Cost: 0.14482221007347107 \t Accuracy: 0.949999988079071\n",
      "Epoch 40, CIFAR-10 Batch 2:  Cost: 0.22393950819969177 \t Accuracy: 0.9000000357627869\n",
      "Epoch 40, CIFAR-10 Batch 3:  Cost: 0.09251920133829117 \t Accuracy: 0.949999988079071\n",
      "Epoch 40, CIFAR-10 Batch 4:  Cost: 0.0926283448934555 \t Accuracy: 0.925000011920929\n",
      "Epoch 40, CIFAR-10 Batch 5:  Cost: 0.09570109844207764 \t Accuracy: 0.949999988079071\n"
     ]
    }
   ],
   "source": [
    "\"\"\"\n",
    "DON'T MODIFY ANYTHING IN THIS CELL\n",
    "\"\"\"\n",
    "save_model_path = './image_classification'\n",
    "\n",
    "print('Training...')\n",
    "with tf.Session() as sess:\n",
    "    # Initializing the variables\n",
    "    sess.run(tf.global_variables_initializer())\n",
    "    \n",
    "    # Training cycle\n",
    "    for epoch in range(epochs):\n",
    "        # Loop over all batches\n",
    "        n_batches = 5\n",
    "        for batch_i in range(1, n_batches + 1):\n",
    "            for batch_features, batch_labels in helper.load_preprocess_training_batch(batch_i, batch_size):\n",
    "                train_neural_network(sess, optimizer, keep_probability, batch_features, batch_labels)\n",
    "            print('Epoch {:>2}, CIFAR-10 Batch {}:  '.format(epoch + 1, batch_i), end='')\n",
    "            print_stats(sess, batch_features, batch_labels, cost, accuracy)\n",
    "            \n",
    "    # Save Model\n",
    "    saver = tf.train.Saver()\n",
    "    save_path = saver.save(sess, save_model_path)"
   ]
  },
  {
   "cell_type": "markdown",
   "metadata": {},
   "source": [
    "# Checkpoint\n",
    "The model has been saved to disk.\n",
    "## Test Model\n",
    "Test your model against the test dataset.  This will be your final accuracy. You should have an accuracy greater than 50%. If you don't, keep tweaking the model architecture and parameters."
   ]
  },
  {
   "cell_type": "code",
   "execution_count": 45,
   "metadata": {},
   "outputs": [
    {
     "name": "stdout",
     "output_type": "stream",
     "text": [
      "INFO:tensorflow:Restoring parameters from ./image_classification\n",
      "Testing Accuracy: 0.7596914556962026\n",
      "\n"
     ]
    },
    {
     "data": {
      "image/png": "[encoded data removed]",
      "text/plain": [
       "<matplotlib.figure.Figure at 0x7f7e28a039e8>"
      ]
     },
     "metadata": {
      "image/png": {
       "height": 319,
       "width": 355
      }
     },
     "output_type": "display_data"
    }
   ],
   "source": [
    "\"\"\"\n",
    "DON'T MODIFY ANYTHING IN THIS CELL\n",
    "\"\"\"\n",
    "%matplotlib inline\n",
    "%config InlineBackend.figure_format = 'retina'\n",
    "\n",
    "import tensorflow as tf\n",
    "import pickle\n",
    "import helper\n",
    "import random\n",
    "\n",
    "# Set batch size if not already set\n",
    "try:\n",
    "    if batch_size:\n",
    "        pass\n",
    "except NameError:\n",
    "    batch_size = 64\n",
    "\n",
    "save_model_path = './image_classification'\n",
    "n_samples = 4\n",
    "top_n_predictions = 3\n",
    "\n",
    "def test_model():\n",
    "    \"\"\"\n",
    "    Test the saved model against the test dataset\n",
    "    \"\"\"\n",
    "\n",
    "    test_features, test_labels = pickle.load(open('preprocess_training.p', mode='rb'))\n",
    "    loaded_graph = tf.Graph()\n",
    "\n",
    "    with tf.Session(graph=loaded_graph) as sess:\n",
    "        # Load model\n",
    "        loader = tf.train.import_meta_graph(save_model_path + '.meta')\n",
    "        loader.restore(sess, save_model_path)\n",
    "\n",
    "        # Get Tensors from loaded model\n",
    "        loaded_x = loaded_graph.get_tensor_by_name('x:0')\n",
    "        loaded_y = loaded_graph.get_tensor_by_name('y:0')\n",
    "        loaded_keep_prob = loaded_graph.get_tensor_by_name('keep_prob:0')\n",
    "        loaded_logits = loaded_graph.get_tensor_by_name('logits:0')\n",
    "        loaded_acc = loaded_graph.get_tensor_by_name('accuracy:0')\n",
    "        \n",
    "        # Get accuracy in batches for memory limitations\n",
    "        test_batch_acc_total = 0\n",
    "        test_batch_count = 0\n",
    "        \n",
    "        for train_feature_batch, train_label_batch in helper.batch_features_labels(test_features, test_labels, batch_size):\n",
    "            test_batch_acc_total += sess.run(\n",
    "                loaded_acc,\n",
    "                feed_dict={loaded_x: train_feature_batch, loaded_y: train_label_batch, loaded_keep_prob: 1.0})\n",
    "            test_batch_count += 1\n",
    "\n",
    "        print('Testing Accuracy: {}\\n'.format(test_batch_acc_total/test_batch_count))\n",
    "\n",
    "        # Print Random Samples\n",
    "        random_test_features, random_test_labels = tuple(zip(*random.sample(list(zip(test_features, test_labels)), n_samples)))\n",
    "        random_test_predictions = sess.run(\n",
    "            tf.nn.top_k(tf.nn.softmax(loaded_logits), top_n_predictions),\n",
    "            feed_dict={loaded_x: random_test_features, loaded_y: random_test_labels, loaded_keep_prob: 1.0})\n",
    "        helper.display_image_predictions(random_test_features, random_test_labels, random_test_predictions)\n",
    "\n",
    "\n",
    "test_model()"
   ]
  },
  {
   "cell_type": "markdown",
   "metadata": {},
   "source": [
    "## Why 50-70% Accuracy?\n",
    "You might be wondering why you can't get an accuracy any higher. First things first, 50% isn't bad for a simple CNN.  Pure guessing would get you 10% accuracy. However, you might notice people are getting scores [well above 70%](http://rodrigob.github.io/are_we_there_yet/build/classification_datasets_results.html#43494641522d3130).  That's because we haven't taught you all there is to know about neural networks. We still need to cover a few more techniques.\n",
    "## Submitting This Project\n",
    "When submitting this project, make sure to run all the cells before saving the notebook.  Save the notebook file as \"dlnd_image_classification.ipynb\" and save it as a HTML file under \"File\" -> \"Download as\".  Include the \"helper.py\" and \"problem_unittests.py\" files in your submission."
   ]
  }
 ],
 "metadata": {
  "kernelspec": {
   "display_name": "Python 3",
   "language": "python",
   "name": "python3"
  },
  "language_info": {
   "codemirror_mode": {
    "name": "ipython",
    "version": 3
   },
   "file_extension": ".py",
   "mimetype": "text/x-python",
   "name": "python",
   "nbconvert_exporter": "python",
   "pygments_lexer": "ipython3",
   "version": "3.5.3"
  }
 },
 "nbformat": 4,
 "nbformat_minor": 1
}
